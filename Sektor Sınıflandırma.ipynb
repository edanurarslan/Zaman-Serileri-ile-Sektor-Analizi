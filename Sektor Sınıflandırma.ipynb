{
  "nbformat": 4,
  "nbformat_minor": 0,
  "metadata": {
    "colab": {
      "provenance": []
    },
    "kernelspec": {
      "name": "python3",
      "display_name": "Python 3"
    },
    "language_info": {
      "name": "python"
    }
  },
  "cells": [
    {
      "cell_type": "markdown",
      "source": [
        "# Veri Yoğun Uygulamalar Modül Projesi: Zaman Serisi Sınıflandırma Problemi\n",
        "\n",
        "-- Hazırlayan: Eda Nur ARSLAN\n",
        "\n",
        "----------\n",
        "## **1. Giriş**\n",
        "### **1.1 Proje Amacı**\n",
        "Bu proje, belirli zaman dilimlerine ait hisse senedi kapanış fiyatlarını kullanarak sektör bazlı sınıflandırma yapmayı amaçlamaktadır. Temel hedef, yeni bir hissenin hangi sektöre daha yakın olduğunu belirlemek ve sektörel benzerlik analizi gerçekleştirmektir.\n",
        "\n",
        "### **1.2 Kullanılan Veri Setleri**\n",
        "Projede kullanılan veri setleri finans, sağlık ve teknoloji sektörlerindeki 2005 yılından itibaren toplanmış hisse kapanış fiyatlarını içermektedir. Bu veriler Yahoo Finance gibi finansal veri sağlayıcılardan elde edilmiştir.\n",
        "\n",
        "### **1.3 Modelin Çalışma Prensibi**\n",
        "Projede, zaman serisi verilerinden elde edilen öznitelikler ile XGBoost, Random Forest ve Gradient Boosting gibi makine öğrenimi algoritmaları kullanılarak sektör tahmini yapılmıştır. Özellikle XGBoost modeli hiperparametre optimizasyonu ile en yüksek doğruluğa ulaşmıştır.\n"
      ],
      "metadata": {
        "id": "jb-g89JSQ5UY"
      }
    },
    {
      "cell_type": "markdown",
      "source": [
        "## **2. Veri Hazırlama ve Özellik Mühendisliği**\n",
        "\n",
        "### **2.1 Ham Verilerin İşlenmesi**\n",
        "Hisse kapanış fiyatları belirlenen sektörler için toplandı ve aylık kapanış verilerine indirildi. Eksik veriler, ileri ve geri doldurma (forward fill, backward fill, interpolatation) yöntemleri ile tamamlandı.\n",
        "\n",
        "### **2.2 TSFresh ile Özellik Çıkarımı**\n",
        "TSFresh kütüphanesi kullanılarak zaman serisi verilerinden önemli öznitelikler türetildi. Hesaplanan öznitelikler arasında şunlar bulunmaktadır:\n",
        "- **Momentum**: 10 günlük getiri yüzdesi\n",
        "- **Volatilite**: 30 günlük standart sapma\n",
        "- **RSI (Relative Strength Index)**\n",
        "- **MACD (Moving Average Convergence Divergence)**\n",
        "- **Hareketli Ortalamalar (SMA 50 & SMA 200)**\n",
        "\n",
        "Öznitelik mühendisliği aşamasında hesaplanan özellikler normalleştirildi ve eksik veriler doldurularak model eğitimi için hazır hale getirildi.\n"
      ],
      "metadata": {
        "id": "tbVLwpcaUK3Q"
      }
    },
    {
      "cell_type": "code",
      "source": [
        "import yfinance\n",
        "import pandas as pd\n",
        "import requests\n",
        "from bs4 import BeautifulSoup\n",
        "from io import StringIO\n",
        "\n",
        "def fetch_sectors_names():\n",
        "    url = \"https://stockanalysis.com/stocks/industry/sectors/\"\n",
        "    response = requests.get(url)\n",
        "    if response.status_code == 200:\n",
        "        soup = BeautifulSoup(response.content, \"html.parser\")\n",
        "        df=pd.read_html(StringIO(str(soup.find_all(\"table\"))))[0]\n",
        "    else:\n",
        "        print(f\"Error: Failed to fetch data from page {url}\")\n",
        "\n",
        "    return df\n",
        "\n",
        "def fetch_industry_names():\n",
        "    url = \"https://stockanalysis.com/stocks/industry/all/\"\n",
        "    response = requests.get(url)\n",
        "    if response.status_code == 200:\n",
        "        soup = BeautifulSoup(response.content, \"html.parser\")\n",
        "        df=pd.read_html(StringIO(str(soup.find_all(\"table\"))))[0]\n",
        "    else:\n",
        "        print(f\"Error: Failed to fetch data from page {url}\")\n",
        "\n",
        "    return df\n",
        "\n",
        "def fetch_data(sectors):\n",
        "    url = f\"https://stockanalysis.com/stocks/sector/{sectors}/\"\n",
        "    response = requests.get(url)\n",
        "    if response.status_code == 200:\n",
        "        soup = BeautifulSoup(response.content, \"html.parser\")\n",
        "        df=pd.read_html(StringIO(str(soup.find_all(\"table\"))))[0]\n",
        "        df.drop(columns='No.', inplace=True)\n",
        "    else:\n",
        "        print(f\"Error: Failed to fetch data from page {url}\")\n",
        "\n",
        "    return df"
      ],
      "metadata": {
        "id": "RY388v2QTWQM"
      },
      "execution_count": null,
      "outputs": []
    },
    {
      "cell_type": "code",
      "source": [
        "sectors=fetch_sectors_names()"
      ],
      "metadata": {
        "id": "_a43819F1CaQ"
      },
      "execution_count": null,
      "outputs": []
    },
    {
      "cell_type": "code",
      "source": [
        "fetch_data(sectors='energy').to_csv(\"energy.csv\", index=False)\n",
        "fetch_data(sectors='financials').to_csv(\"financials.csv\", index=False)\n",
        "fetch_data(sectors='healthcare').to_csv(\"healthcare.csv\", index=False)\n",
        "fetch_data(sectors='technology').to_csv(\"technology.csv\", index=False)\n",
        "fetch_data(sectors='utilities').to_csv(\"utilities.csv\", index=False)\n",
        "fetch_data(sectors='real-estate').to_csv(\"real-estate.csv\", index=False)\n",
        "fetch_data(sectors='materials').to_csv(\"materials.csv\", index=False)\n",
        "fetch_data(sectors='technology').to_csv(\"technology.csv\", index=False)\n",
        "fetch_data(sectors='industrials').to_csv(\"industrials.csv\", index=False)\n",
        "fetch_data(sectors='consumer-staples').to_csv(\"consumer-staples.csv\", index=False)\n",
        "fetch_data(sectors='consumer-discretionary').to_csv(\"consumer-discretionary.csv\", index=False)\n",
        "fetch_data(sectors='communication-services').to_csv(\"communication-services.csv\", index=False)"
      ],
      "metadata": {
        "id": "YaaxUNhl1KJH"
      },
      "execution_count": null,
      "outputs": []
    },
    {
      "cell_type": "markdown",
      "source": [
        "#Veri Çekme\n",
        "- Şirketlerin çekilmesi\n",
        "- Şirketlerin aylık getirilerinin çekilmesi"
      ],
      "metadata": {
        "id": "W5RlSj_SUT7F"
      }
    },
    {
      "cell_type": "code",
      "source": [
        "#Her sektörden 500'er şirket seçme\n",
        "sector_files = {\n",
        "    \"financials\": \"financials.csv\",\n",
        "    \"healthcare\": \"healthcare.csv\",\n",
        "    \"technology\": \"technology.csv\"\n",
        "}\n",
        "\n",
        "selected_stocks = {}\n",
        "\n",
        "for sector, file in sector_files.items():\n",
        "    df = pd.read_csv(file)\n",
        "\n",
        "    # Eğer 500'den fazla şirket varsa rastgele 500 şirket seçelim\n",
        "    if len(df) >= 500:\n",
        "        selected_stocks[sector] = df.sample(n=500, random_state=42)\n",
        "    else:\n",
        "        selected_stocks[sector] = df  # Eğer 500'den az şirket varsa tümünü al\n",
        "\n",
        "    # Yeni dosya olarak kaydetme\n",
        "    selected_stocks[sector].to_csv(f\"selected_{sector}.csv\", index=False)"
      ],
      "metadata": {
        "id": "L7MBpnPk6km3"
      },
      "execution_count": null,
      "outputs": []
    },
    {
      "cell_type": "code",
      "source": [
        "import time\n",
        "\n",
        "#Aylık Getirileri Güvenli Şekilde Çekme Fonksiyonu\n",
        "def get_monthly_returns_batched(ticker_list, start_date=\"2005-01-01\", batch_size=50):\n",
        "    \"\"\"\n",
        "    Hisse senedi verilerini parça parça çekerek YFinance API limitlerine takılmaktan kaçınır.\n",
        "    - API limitlerine takılmamak için batch olarak (küçük gruplar halinde) veri çeker.\n",
        "    - Borsa dışına çıkmış (delisted) şirketleri tespit eder ve hariç tutar.\n",
        "    - Eksik verileri interpolate() ile doldurur.\n",
        "    \"\"\"\n",
        "    all_data = []\n",
        "    failed_tickers = []\n",
        "\n",
        "    for i in range(0, len(ticker_list), batch_size):\n",
        "        batch = ticker_list[i:i+batch_size]\n",
        "        try:\n",
        "            data = yf.download(batch, start=start_date, interval=\"1mo\")[\"Close\"]\n",
        "            if data is not None and not data.empty:\n",
        "                all_data.append(data)\n",
        "            else:\n",
        "                failed_tickers.extend(batch)\n",
        "        except Exception as e:\n",
        "            print(f\"Hata: {e}\")\n",
        "            failed_tickers.extend(batch)\n",
        "\n",
        "        time.sleep(10)  # API limitine takılmamak için bekleme süresi\n",
        "\n",
        "    if all_data:\n",
        "        full_data = pd.concat(all_data, axis=1)\n",
        "        monthly_returns = full_data.interpolate().ffill().bfill()\n",
        "        return monthly_returns, failed_tickers\n",
        "    else:\n",
        "        return None, failed_tickers\n",
        "\n",
        "#Seçilen Şirketlerden Aylık Getirileri Çekme\n",
        "selected_stocks = {\n",
        "    \"financials\": pd.read_csv(\"selected_financials.csv\"),\n",
        "    \"healthcare\": pd.read_csv(\"selected_healthcare.csv\"),\n",
        "    #\"technology\": pd.read_csv(\"selected_technology.csv\"),\n",
        "}\n",
        "\n",
        "for sector, df in selected_stocks.items():\n",
        "    tickers = df[\"Symbol\"].tolist()[:500]  # İlk 500 şirketi al\n",
        "    sector_returns, failed_tickers = get_monthly_returns_batched(tickers)\n",
        "\n",
        "    if sector_returns is not None:\n",
        "        file_path = f\"{sector}_monthly_returns.csv\"\n",
        "        sector_returns.to_csv(file_path)\n",
        "\n",
        "    if failed_tickers:\n",
        "        print(f\"{sector} sektöründe {len(failed_tickers)} şirketin verisi bulunamadı: {failed_tickers}\")"
      ],
      "metadata": {
        "colab": {
          "base_uri": "https://localhost:8080/"
        },
        "id": "DuqaBuag6obj",
        "outputId": "b1447054-9f34-4fa3-eb69-7507ee127b9a"
      },
      "execution_count": null,
      "outputs": [
        {
          "output_type": "stream",
          "name": "stdout",
          "text": [
            "📡 Veri çekiliyor: ['BNS', 'TOP', 'PCSC', 'MKTW', 'TIRX', 'FVN', 'SASR', 'TSLX', 'EWBC', 'FUFU', 'FNB', 'WTW', 'VEL', 'CFSB', 'BBAR', 'RMBI', 'HTBK', 'CWBC', 'INTR', 'PBFS', 'DB', 'SEZL', 'LEGT', 'GRAF', 'OWL', 'AX', 'BHB', 'CBNK', 'BUR', 'IBN', 'BN', 'HYAC', 'BSBK', 'RJF', 'ERIE', 'BMO', 'SOS', 'VLY', 'BFH', 'LU', 'SPNT', 'FCNCA', 'BOWN', 'CAPN', 'AGM', 'BWB', 'OVLY', 'BZAI', 'WSFS', 'NTB']\n"
          ]
        },
        {
          "output_type": "stream",
          "name": "stderr",
          "text": [
            "[*********************100%***********************]  50 of 50 completed\n"
          ]
        },
        {
          "output_type": "stream",
          "name": "stdout",
          "text": [
            "📡 Veri çekiliyor: ['WBS', 'CCB', 'BWFG', 'GECC', 'WULF', 'THG', 'WTBA', 'BRBS', 'TURN', 'SFNC', 'CRD.B', 'RVSB', 'WRLD', 'FRBA', 'AEG', 'BAYA', 'MLAC', 'LX', 'PX', 'HBAN', 'STEL', 'SFBS', 'MCBS', 'WTM', 'EQH', 'SAFT', 'EFSC', 'USCB', 'SLQT', 'AFG', 'PAX', 'NWBI', 'PIPR', 'FNWB', 'IROH', 'SBCF', 'BSAC', 'SRCE', 'MKDW', 'PTMN', 'JXN', 'TSBK', 'BAFN', 'LMFA', 'INDB', 'FBNC', 'PRA', 'NSTS', 'FISI', 'RM']\n"
          ]
        },
        {
          "output_type": "stream",
          "name": "stderr",
          "text": [
            "[*********************100%***********************]  50 of 50 completed\n",
            "ERROR:yfinance:\n",
            "1 Failed download:\n",
            "ERROR:yfinance:['CRD.B']: YFTzMissingError('$%ticker%: possibly delisted; no timezone found')\n",
            "[                       0%                       ]"
          ]
        },
        {
          "output_type": "stream",
          "name": "stdout",
          "text": [
            "📡 Veri çekiliyor: ['SCM', 'UNTY', 'MPB', 'LPAA', 'GLRE', 'IFS', 'MSCI', 'COFS', 'HONE', 'OACC', 'WABC', 'PRU', 'CLRC', 'JHG', 'TAVI', 'FITB', 'BBUC', 'PFLT', 'JMSB', 'OPOF', 'MBIN', 'HMST', 'TYG', 'RRBI', 'TCBX', 'JACS.RT', 'OBT', 'BWIN', 'MET', 'GDST', 'ATMC', 'CURR', 'TBBK', 'PAPL', 'BOW', 'SBXD', 'AON', 'CME', 'WASH', 'AAMI', 'RFAC', 'AGO', 'SHG', 'TW', 'CPBI', 'EZPW', 'MKL', 'CASH', 'BFST', 'PWP']\n"
          ]
        },
        {
          "output_type": "stream",
          "name": "stderr",
          "text": [
            "[*********************100%***********************]  50 of 50 completed\n",
            "ERROR:yfinance:\n",
            "1 Failed download:\n",
            "ERROR:yfinance:['JACS.RT']: YFTzMissingError('$%ticker%: possibly delisted; no timezone found')\n",
            "[                       0%                       ]"
          ]
        },
        {
          "output_type": "stream",
          "name": "stdout",
          "text": [
            "📡 Veri çekiliyor: ['PFX', 'HTH', 'TCBS', 'WFC', 'MFC', 'TCBI', 'HTBI', 'STC', 'ALRS', 'BBD', 'OAKU', 'BCG', 'SWIN', 'BKHA', 'GCBC', 'ICE', 'IBKR', 'HSBC', 'EARN', 'RANG', 'ESGR', 'HSPT', 'MORN', 'AMSF', 'GBLI', 'MCO', 'HTGC', 'MVBF', 'CCAP', 'OCSL', 'RBCAA', 'RKT', 'ARBK', 'OBK', 'PKBK', 'FACT', 'AUBN', 'BVFL', 'GCMG', 'HRZN', 'CNF', 'NCTY', 'GATE', 'CNOB', 'PFIS', 'PFBC', 'LPRO', 'CHAR', 'SSBI', 'MBWM']\n"
          ]
        },
        {
          "output_type": "stream",
          "name": "stderr",
          "text": [
            "[*********************100%***********************]  50 of 50 completed\n",
            "[                       0%                       ]"
          ]
        },
        {
          "output_type": "stream",
          "name": "stdout",
          "text": [
            "📡 Veri çekiliyor: ['FBK', 'GS', 'MCVT', 'WF', 'BFC', 'OPRT', 'PFG', 'FFIN', 'OPHC', 'NTWO', 'FBMS', 'UCB', 'ISTR', 'RWAY', 'V', 'CHEB', 'CCIX', 'HGTY', 'GLAD', 'SNV', 'BSRR', 'DMYY', 'FLIC', 'GSBC', 'MBCN', 'HBNC', 'CZNC', 'MTAL', 'HOPE', 'NAVI', 'ZBAO', 'CZWI', 'DNB', 'OPY', 'STT', 'HLNE', 'JVSA', 'LYG', 'COLA', 'ABL', 'RENE', 'QD', 'SBFG', 'BEN', 'UFCS', 'MKTX', 'ALF', 'AMP', 'GSRT', 'MRCC']\n"
          ]
        },
        {
          "output_type": "stream",
          "name": "stderr",
          "text": [
            "[*********************100%***********************]  50 of 50 completed\n",
            "ERROR:yfinance:\n",
            "1 Failed download:\n",
            "ERROR:yfinance:['COLA']: YFTzMissingError('$%ticker%: possibly delisted; no timezone found')\n"
          ]
        },
        {
          "output_type": "stream",
          "name": "stdout",
          "text": [
            "📡 Veri çekiliyor: ['MBI', 'OXBR', 'FNLC', 'GSIW', 'HWC', 'FDBC', 'MOFG', 'PROV', 'BTBT', 'SDIG', 'EQBK', 'EIG', 'FSUN', 'BMA', 'VINP', 'DBRG', 'HMN', 'FTII', 'CBOE', 'DECA', 'CADE', 'RAND', 'SLF', 'EVR', 'GLBZ', 'CRD.A', 'SSB', 'PB', 'APO', 'PSBD', 'COLB', 'CIFR', 'ASRV', 'RELI', 'BNT', 'COOP', 'MS', 'WHF', 'EBTC', 'HIG', 'SVCC', 'ROOT', 'PLMK', 'FRHC', 'SNEX', 'BGC', 'NMFC', 'FDSB', 'AIZ', 'ORRF']\n"
          ]
        },
        {
          "output_type": "stream",
          "name": "stderr",
          "text": [
            "[*********************100%***********************]  50 of 50 completed\n",
            "ERROR:yfinance:\n",
            "2 Failed downloads:\n",
            "ERROR:yfinance:['CRD.A', 'SVCC']: YFTzMissingError('$%ticker%: possibly delisted; no timezone found')\n"
          ]
        },
        {
          "output_type": "stream",
          "name": "stdout",
          "text": [
            "📡 Veri çekiliyor: ['OMCC', 'GLAC', 'MFG', 'SAR', 'BSBR', 'CPF', 'ING', 'MFIC', 'GSBD', 'SPHA', 'TD', 'DCOM', 'TDAC', 'CAC', 'TRV', 'PCB', 'CLST', 'CBFV', 'NMIH', 'IBCP', 'IBAC', 'VCIC', 'TBNK', 'MUFG', 'ESSA', 'HPH', 'SYF', 'AIG', 'TOWN', 'RNST', 'AQU', 'CCBG', 'SPGI', 'MTG', 'SII', 'BEAG', 'CNO', 'WDH', 'PWOD', 'PFC', 'FMBH', 'CARE', 'OVBC', 'OMF', 'FRST', 'NOAH', 'STEP', 'FIBK', 'HFBL', 'ICCH']\n"
          ]
        },
        {
          "output_type": "stream",
          "name": "stderr",
          "text": [
            "[*********************100%***********************]  50 of 50 completed\n",
            "ERROR:yfinance:\n",
            "1 Failed download:\n",
            "ERROR:yfinance:['TDAC']: YFTzMissingError('$%ticker%: possibly delisted; no timezone found')\n",
            "[                       0%                       ]"
          ]
        },
        {
          "output_type": "stream",
          "name": "stdout",
          "text": [
            "📡 Veri çekiliyor: ['BRO', 'ARCC', 'PNNT', 'FMNB', 'CG', 'BAP', 'HCI', 'NTRS', 'NFBK', 'TPG', 'SUPV', 'AAM', 'ALCY', 'BLAC', 'MBAV', 'ACNB', 'PUK', 'RY', 'PLBC', 'BBVA', 'NU', 'NBHC', 'BPOP', 'IROQ', 'GOCO', 'FSFG', 'DGICB', 'UPST', 'VBFC', 'NECB', 'FAF', 'DRDB', 'WHG', 'NOEM', 'TMP', 'BKU', 'BTCS', 'STBA', 'HRTG', 'HDB', 'MA', 'BUJA', 'CLSK', 'BETR', 'BPRN', 'NBBK', 'SLRC', 'KMPR', 'GDOT', 'ESQ']\n"
          ]
        },
        {
          "output_type": "stream",
          "name": "stderr",
          "text": [
            "[*********************100%***********************]  50 of 50 completed\n",
            "[                       0%                       ]"
          ]
        },
        {
          "output_type": "stream",
          "name": "stdout",
          "text": [
            "📡 Veri çekiliyor: ['AAME', 'FCF', 'FCAP', 'BX', 'FBP', 'UBS', 'VRTS', 'CNS', 'LNKB', 'FGMC', 'BSLK', 'BSVN', 'VBTX', 'EVGR', 'ITIC', 'UBSI', 'TFSL', 'KB', 'SHFS', 'HAFC', 'IPXX', 'WSBC', 'SLM', 'AFBI', 'POLE', 'WTFC', 'FCNCO', 'FFNW', 'CIVB', 'FRME', 'ACGL', 'ONIT', 'MC', 'BANC', 'BSII', 'NEWT', 'EBC', 'WRB', 'LSBK', 'EG', 'RNR', 'RIBB', 'NBTB', 'FULT', 'BRK.B', 'DXF', 'TREE', 'CWD', 'NBN', 'BMRC']\n"
          ]
        },
        {
          "output_type": "stream",
          "name": "stderr",
          "text": [
            "[*********************100%***********************]  50 of 50 completed\n",
            "ERROR:yfinance:\n",
            "3 Failed downloads:\n",
            "ERROR:yfinance:['RIBB', 'BRK.B']: YFTzMissingError('$%ticker%: possibly delisted; no timezone found')\n",
            "ERROR:yfinance:['FGMC']: YFInvalidPeriodError(\"%ticker%: Period 'max' is invalid, must be of the format 1d, 5d, etc.\")\n",
            "[                       0%                       ]"
          ]
        },
        {
          "output_type": "stream",
          "name": "stdout",
          "text": [
            "📡 Veri çekiliyor: ['FHN', 'PFS', 'HCVI', 'FUTU', 'AB', 'EVBN', 'WNEB', 'CCIR', 'AIFU', 'LMND', 'TFIN', 'YOTA', 'CIB', 'HWBK', 'RBB', 'BCOW', 'MACI', 'CSWC', 'MCY', 'NWFL', 'HUT', 'TIPT', 'FIHL', 'QCRH', 'BK', 'CET', 'BCSF', 'SFST', 'ENVA', 'GBCI', 'BENF', 'HNNA', 'FDS', 'DFS', 'VABK', 'PLMR', 'HIT', 'KEY', 'AMRK', 'FUNC', 'GBBK', 'LCNB', 'BOKF', 'LNC', 'SKWD', 'HBCP', 'HOOD', 'ZBAI', 'ORI', 'HLI']\n"
          ]
        },
        {
          "output_type": "stream",
          "name": "stderr",
          "text": [
            "[*********************100%***********************]  50 of 50 completed\n"
          ]
        },
        {
          "output_type": "stream",
          "name": "stdout",
          "text": [
            "✅ financials sektörüne ait aylık kapanış fiyatları kaydedildi!\n",
            "📡 Veri çekiliyor: ['CRVO', 'BIO.B', 'BLUE', 'EDIT', 'ENZ', 'WGS', 'MRNS', 'PHG', 'CTKB', 'IRON', 'RNTX', 'CRNX', 'ME', 'AMN', 'BNTC', 'MOVE', 'PLUR', 'CRBP', 'NKGN', 'BTSG', 'BHVN', 'ENVB', 'VCYT', 'ZOM', 'MLSS', 'RNAC', 'OBIO', 'GKOS', 'AURA', 'CBUS', 'VMD', 'HCA', 'URGN', 'RGLS', 'CPIX', 'CRVS', 'FOXO', 'KALA', 'CERT', 'MBOT', 'RVMD', 'LXRX', 'TNXP', 'ANNX', 'UPB', 'AMLX', 'PBM', 'CTXR', 'QDEL', 'AUNA']\n"
          ]
        },
        {
          "output_type": "stream",
          "name": "stderr",
          "text": [
            "[*********************100%***********************]  50 of 50 completed\n",
            "ERROR:yfinance:\n",
            "11 Failed downloads:\n",
            "ERROR:yfinance:['BIO.B']: YFPricesMissingError('$%ticker%: possibly delisted; no price data found  (1mo 2005-01-01 -> 2025-02-10)')\n",
            "ERROR:yfinance:['TNXP', 'VCYT', 'ANNX', 'CTXR', 'ZOM', 'CRVO', 'CTKB', 'QDEL', 'PLUR', 'GKOS']: YFRateLimitError('Too Many Requests. Rate limited. Try after a while.')\n"
          ]
        },
        {
          "output_type": "stream",
          "name": "stdout",
          "text": [
            "📡 Veri çekiliyor: ['PRQR', 'SDGR', 'SLP', 'DNA', 'SMMT', 'AVGR', 'ARAY', 'GCTK', 'VTGN', 'BKD', 'CODX', 'HUM', 'SNDA', 'OCS', 'VTAK', 'CELU', 'SLN', 'OPK', 'GMED', 'ZCMD', 'ANIK', 'ONC', 'IVVD', 'IMCR', 'VKTX', 'SEER', 'VOR', 'DBVT', 'PACB', 'WBA', 'NNOX', 'BVS', 'VINC', 'CNTA', 'LH', 'PTIX', 'OGI', 'MRSN', 'DXR', 'LTRN', 'FONR', 'NVCR', 'THRD', 'PTN', 'ARMP', 'LUCY', 'AUTL', 'KNSA', 'ZIMV', 'IBRX']\n"
          ]
        },
        {
          "output_type": "stream",
          "name": "stderr",
          "text": [
            "[*********************100%***********************]  50 of 50 completed\n",
            "ERROR:yfinance:\n",
            "50 Failed downloads:\n",
            "ERROR:yfinance:['VTGN', 'PTIX', 'SEER', 'SMMT', 'DBVT', 'CELU', 'SNDA', 'NNOX', 'ZIMV', 'PACB', 'LH', 'IVVD', 'LTRN', 'CNTA', 'AVGR', 'AUTL', 'CODX', 'PTN', 'VOR', 'IMCR', 'ONC', 'DNA', 'ZCMD', 'DXR', 'KNSA', 'PRQR', 'FONR', 'SDGR', 'NVCR', 'ANIK', 'IBRX', 'GMED', 'BVS', 'SLN', 'BKD', 'VKTX', 'WBA', 'THRD', 'OCS', 'SLP', 'ARAY', 'ARMP', 'GCTK', 'HUM', 'LUCY', 'VTAK', 'VINC', 'OPK', 'MRSN', 'OGI']: YFRateLimitError('Too Many Requests. Rate limited. Try after a while.')\n"
          ]
        },
        {
          "output_type": "stream",
          "name": "stdout",
          "text": [
            "📡 Veri çekiliyor: ['NSYS', 'SGMT', 'ADIL', 'MAZE', 'TMCI', 'BCAX', 'BCRX', 'ATXS', 'PRTC', 'TNON', 'OSTX', 'SCYX', 'SNDX', 'ZURA', 'KTTA', 'PEN', 'PTCT', 'SNSE', 'ALC', 'FENC', 'PSTV', 'MNDR', 'VRNA', 'VNRX', 'GBIO', 'TLX', 'TRDA', 'JSPR', 'RDY', 'ARWR', 'CYTH', 'INM', 'MNKD', 'LSB', 'KAPA', 'CAPR', 'SLRX', 'LIPO', 'NRC', 'NVS', 'ECOR', 'OPT', 'ARQT', 'TEVA', 'TOVX', 'CTMX', 'RCEL', 'STRR', 'ADAP', 'MOLN']\n"
          ]
        },
        {
          "output_type": "stream",
          "name": "stderr",
          "text": [
            "[*********************100%***********************]  50 of 50 completed\n",
            "ERROR:yfinance:\n",
            "50 Failed downloads:\n",
            "ERROR:yfinance:['INM', 'TNON', 'NVS', 'PEN', 'SNDX', 'CTMX', 'OSTX', 'ADAP', 'FENC', 'SCYX', 'PRTC', 'GBIO', 'ATXS', 'ARWR', 'TOVX', 'MAZE', 'SGMT', 'LIPO', 'KTTA', 'BCAX', 'ARQT', 'RCEL', 'ALC', 'KAPA', 'OPT', 'JSPR', 'STRR', 'LSB', 'VRNA', 'CYTH', 'TLX', 'NSYS', 'VNRX', 'MOLN', 'TRDA', 'MNDR', 'BCRX', 'SNSE', 'TEVA', 'ECOR', 'SLRX', 'ADIL', 'PSTV', 'TMCI', 'ZURA', 'RDY', 'MNKD', 'CAPR', 'NRC', 'PTCT']: YFRateLimitError('Too Many Requests. Rate limited. Try after a while.')\n"
          ]
        },
        {
          "output_type": "stream",
          "name": "stdout",
          "text": [
            "📡 Veri çekiliyor: ['RBOT', 'NVNO', 'ANIP', 'TMDX', 'ETON', 'CALC', 'SNOA', 'ABEO', 'SENS', 'MHUA', 'GOSS', 'JYNT', 'DTIL', 'COLL', 'TKNO', 'AXDX', 'PHAT', 'UHS', 'NDRA', 'INBX', 'NRIX', 'INDP', 'MYNZ', 'UBX', 'PRTA', 'SLRN', 'ARTV', 'SNYR', 'AFMD', 'ELEV', 'AHCO', 'ITCI', 'TARA', 'CYTK', 'FTRE', 'AGEN', 'IRIX', 'OPTN', 'ITGR', 'OTRK', 'PNTG', 'KRON', 'IONS', 'NEPH', 'ACHL', 'PYPD', 'INCR', 'TLSI', 'INDV', 'GDRX']\n"
          ]
        },
        {
          "output_type": "stream",
          "name": "stderr",
          "text": [
            "[*********************100%***********************]  50 of 50 completed\n",
            "ERROR:yfinance:\n",
            "50 Failed downloads:\n",
            "ERROR:yfinance:['CYTK', 'AXDX', 'PYPD', 'SENS', 'KRON', 'ARTV', 'MHUA', 'CALC', 'FTRE', 'IRIX', 'ANIP', 'JYNT', 'TMDX', 'MYNZ', 'NVNO', 'ABEO', 'INDP', 'OPTN', 'PRTA', 'NEPH', 'NRIX', 'AFMD', 'INBX', 'SNYR', 'UHS', 'AGEN', 'IONS', 'GOSS', 'GDRX', 'TARA', 'INCR', 'UBX', 'SNOA', 'OTRK', 'ITGR', 'ELEV', 'COLL', 'NDRA', 'INDV', 'TLSI', 'PHAT', 'ITCI', 'PNTG', 'ETON', 'TKNO', 'RBOT', 'ACHL', 'DTIL', 'AHCO', 'SLRN']: YFRateLimitError('Too Many Requests. Rate limited. Try after a while.')\n"
          ]
        },
        {
          "output_type": "stream",
          "name": "stdout",
          "text": [
            "📡 Veri çekiliyor: ['ORIC', 'DXCM', 'TBPH', 'CLOV', 'SPOK', 'NMRA', 'RDHL', 'CATX', 'ATLN', 'DNLI', 'AVNS', 'MTSR', 'ATRC', 'EVH', 'OKUR', 'ZYXI', 'INCY', 'AORT', 'AKTX', 'FGEN', 'VRPX', 'EBS', 'RVPH', 'ACTU', 'NAMS', 'ALXO', 'IDXX', 'COR', 'DRIO', 'OPCH', 'STE', 'MTVA', 'NUVB', 'WEAV', 'VVOS', 'IVA', 'EKSO', 'TTNP', 'JNJ', 'ACRS', 'RAPT', 'EMBC', 'VERO', 'FBLG', 'MDAI', 'WOK', 'REPL', 'ATYR', 'GOVX', 'NRXP']\n"
          ]
        },
        {
          "output_type": "stream",
          "name": "stderr",
          "text": [
            "[*********************100%***********************]  50 of 50 completed\n",
            "ERROR:yfinance:\n",
            "50 Failed downloads:\n",
            "ERROR:yfinance:['AKTX', 'ATRC', 'ORIC', 'SPOK', 'OPCH', 'VRPX', 'IDXX', 'DRIO', 'ALXO', 'TTNP', 'TBPH', 'WOK', 'EVH', 'VERO', 'AORT', 'GOVX', 'MTSR', 'COR', 'ACRS', 'ATYR', 'OKUR', 'CATX', 'AVNS', 'REPL', 'VVOS', 'ATLN', 'FGEN', 'INCY', 'NUVB', 'CLOV', 'RAPT', 'MDAI', 'NRXP', 'FBLG', 'EKSO', 'EMBC', 'RVPH', 'DNLI', 'NMRA', 'MTVA', 'WEAV', 'EBS', 'DXCM', 'IVA', 'JNJ', 'NAMS', 'RDHL', 'STE', 'ACTU', 'ZYXI']: YFRateLimitError('Too Many Requests. Rate limited. Try after a while.')\n"
          ]
        },
        {
          "output_type": "stream",
          "name": "stdout",
          "text": [
            "📡 Veri çekiliyor: ['ZBH', 'ISPC', 'DAWN', 'CERS', 'ILMN', 'PRPO', 'SPRY', 'GANX', 'EXEL', 'GLSI', 'SAGE', 'AZTR', 'AKYA', 'PHVS', 'GDTC', 'PDEX', 'EVGN', 'ENTO', 'MGNX', 'TNFA', 'DOCS', 'ICLR', 'ADCT', 'ALLK', 'BSX', 'IPSC', 'CLYM', 'QIPT', 'IGMS', 'EDSA', 'LENZ', 'LFCR', 'CELC', 'XNCR', 'NPCE', 'TCBP', 'PLRZ', 'INGN', 'LQDA', 'PCSA', 'TARS', 'ICU', 'NVO', 'AZN', 'STRM', 'ENTX', 'BIAF', 'APGE', 'INMB', 'ONCO']\n"
          ]
        },
        {
          "output_type": "stream",
          "name": "stderr",
          "text": [
            "[*********************100%***********************]  50 of 50 completed\n",
            "[                       0%                       ]"
          ]
        },
        {
          "output_type": "stream",
          "name": "stdout",
          "text": [
            "📡 Veri çekiliyor: ['PRFX', 'GYRE', 'CSTL', 'CNTX', 'HUMA', 'SGHT', 'BFRG', 'ZTEK', 'TLPH', 'UNCY', 'WVE', 'MDXG', 'MCK', 'BFLY', 'MTD', 'RGEN', 'BIIB', 'ATAI', 'NEOG', 'CORT', 'AVIR', 'IRMD', 'RIGL', 'DVA', 'MAIA', 'MRKR', 'CYH', 'COCH', 'PRME', 'SYRA', 'TIL', 'TIVC', 'KMDA', 'IPA', 'NRXS', 'PAHC', 'MODV', 'RMTI', 'CSBR', 'CSCI', 'IBIO', 'ASRT', 'COO', 'MGRM', 'SRPT', 'BOLD', 'SNGX', 'HCWB', 'NVAX', 'GUTS']\n"
          ]
        },
        {
          "output_type": "stream",
          "name": "stderr",
          "text": [
            "[*********************100%***********************]  50 of 50 completed\n",
            "[                       0%                       ]"
          ]
        },
        {
          "output_type": "stream",
          "name": "stdout",
          "text": [
            "📡 Veri çekiliyor: ['SLGL', 'SXTP', 'ICAD', 'AMED', 'BIOA', 'SANA', 'CRL', 'MEIP', 'ATOS', 'INFU', 'AMRN', 'KALV', 'EYPT', 'AMPH', 'AKBA', 'COSM', 'AVBP', 'BMEA', 'STTK', 'TRIB', 'ALKS', 'ANIX', 'ELMD', 'TSBX', 'BLRX', 'GNTA', 'CLSD', 'BDX', 'IFRX', 'ACLX', 'DVAX', 'MYGN', 'EOLS', 'AVAH', 'KZIA', 'CRIS', 'DRTS', 'FLGT', 'OMGA', 'OCX', 'ANTX', 'QTRX', 'XAIR', 'IMCC', 'ALGN', 'AHG', 'HRTX', 'XWEL', 'MBX', 'PRAX']\n"
          ]
        },
        {
          "output_type": "stream",
          "name": "stderr",
          "text": [
            "[*********************100%***********************]  50 of 50 completed\n",
            "[                       0%                       ]"
          ]
        },
        {
          "output_type": "stream",
          "name": "stdout",
          "text": [
            "📡 Veri çekiliyor: ['NRSN', 'CMND', 'FNA', 'QTTB', 'JANX', 'SVRA', 'IART', 'AADI', 'PMVP', 'RCUS', 'SNPX', 'LYRA', 'ADAG', 'BPTH', 'NEO', 'CUE', 'REVB', 'HOLX', 'PCVX', 'TENX', 'HLN', 'RGC', 'CDTX', 'NHC', 'TDOC', 'SOPH', 'ZVSA', 'RADX', 'DNTH', 'THC', 'GMAB', 'CMPS', 'MRNA', 'PALI', 'PLX', 'INO', 'XFOR', 'SIGA', 'PROF', 'AQST', 'IPHA', 'AXGN', 'CDXS', 'ABT', 'ADPT', 'PGEN', 'SSKN', 'ATNM', 'BIO', 'HSIC']\n"
          ]
        },
        {
          "output_type": "stream",
          "name": "stderr",
          "text": [
            "[*********************100%***********************]  50 of 50 completed\n",
            "[                       0%                       ]"
          ]
        },
        {
          "output_type": "stream",
          "name": "stdout",
          "text": [
            "📡 Veri çekiliyor: ['BBLG', 'NUTX', 'KPRX', 'ELVN', 'FULC', 'MYO', 'DGX', 'ARDX', 'CTOR', 'TXG', 'BDSX', 'IDYA', 'SLNO', 'KRYS', 'GRI', 'WINT', 'HLVX', 'HALO', 'IKNA', 'BYSI', 'GERN', 'ATNF', 'RXST', 'STAA', 'TMO', 'GLUE', 'SGMO', 'OCUL', 'CPRX', 'ICCC', 'VERV', 'VTRS', 'PHAR', 'AMWL', 'EPIX', 'CASI', 'NXGL', 'TCRX', 'AGIO', 'TNGX', 'MPLN', 'BHC', 'OPRX', 'SYBX', 'RDNT', 'NTRB', 'SRDX', 'CPHI', 'BEAM', 'AEON']\n"
          ]
        },
        {
          "output_type": "stream",
          "name": "stderr",
          "text": [
            "[*********************100%***********************]  50 of 50 completed\n"
          ]
        },
        {
          "output_type": "stream",
          "name": "stdout",
          "text": [
            "✅ healthcare sektörüne ait aylık kapanış fiyatları kaydedildi!\n",
            "❌ healthcare sektöründe 200 şirketin verisi bulunamadı: ['PRQR', 'SDGR', 'SLP', 'DNA', 'SMMT', 'AVGR', 'ARAY', 'GCTK', 'VTGN', 'BKD', 'CODX', 'HUM', 'SNDA', 'OCS', 'VTAK', 'CELU', 'SLN', 'OPK', 'GMED', 'ZCMD', 'ANIK', 'ONC', 'IVVD', 'IMCR', 'VKTX', 'SEER', 'VOR', 'DBVT', 'PACB', 'WBA', 'NNOX', 'BVS', 'VINC', 'CNTA', 'LH', 'PTIX', 'OGI', 'MRSN', 'DXR', 'LTRN', 'FONR', 'NVCR', 'THRD', 'PTN', 'ARMP', 'LUCY', 'AUTL', 'KNSA', 'ZIMV', 'IBRX', 'NSYS', 'SGMT', 'ADIL', 'MAZE', 'TMCI', 'BCAX', 'BCRX', 'ATXS', 'PRTC', 'TNON', 'OSTX', 'SCYX', 'SNDX', 'ZURA', 'KTTA', 'PEN', 'PTCT', 'SNSE', 'ALC', 'FENC', 'PSTV', 'MNDR', 'VRNA', 'VNRX', 'GBIO', 'TLX', 'TRDA', 'JSPR', 'RDY', 'ARWR', 'CYTH', 'INM', 'MNKD', 'LSB', 'KAPA', 'CAPR', 'SLRX', 'LIPO', 'NRC', 'NVS', 'ECOR', 'OPT', 'ARQT', 'TEVA', 'TOVX', 'CTMX', 'RCEL', 'STRR', 'ADAP', 'MOLN', 'RBOT', 'NVNO', 'ANIP', 'TMDX', 'ETON', 'CALC', 'SNOA', 'ABEO', 'SENS', 'MHUA', 'GOSS', 'JYNT', 'DTIL', 'COLL', 'TKNO', 'AXDX', 'PHAT', 'UHS', 'NDRA', 'INBX', 'NRIX', 'INDP', 'MYNZ', 'UBX', 'PRTA', 'SLRN', 'ARTV', 'SNYR', 'AFMD', 'ELEV', 'AHCO', 'ITCI', 'TARA', 'CYTK', 'FTRE', 'AGEN', 'IRIX', 'OPTN', 'ITGR', 'OTRK', 'PNTG', 'KRON', 'IONS', 'NEPH', 'ACHL', 'PYPD', 'INCR', 'TLSI', 'INDV', 'GDRX', 'ORIC', 'DXCM', 'TBPH', 'CLOV', 'SPOK', 'NMRA', 'RDHL', 'CATX', 'ATLN', 'DNLI', 'AVNS', 'MTSR', 'ATRC', 'EVH', 'OKUR', 'ZYXI', 'INCY', 'AORT', 'AKTX', 'FGEN', 'VRPX', 'EBS', 'RVPH', 'ACTU', 'NAMS', 'ALXO', 'IDXX', 'COR', 'DRIO', 'OPCH', 'STE', 'MTVA', 'NUVB', 'WEAV', 'VVOS', 'IVA', 'EKSO', 'TTNP', 'JNJ', 'ACRS', 'RAPT', 'EMBC', 'VERO', 'FBLG', 'MDAI', 'WOK', 'REPL', 'ATYR', 'GOVX', 'NRXP']\n"
          ]
        }
      ]
    },
    {
      "cell_type": "code",
      "source": [
        "#Aylık Getirileri Güvenli Şekilde Çekme Fonksiyonu\n",
        "def get_monthly_returns_batched(ticker_list, start_date=\"2005-01-01\", batch_size=30):\n",
        "    all_data = []\n",
        "    failed_tickers = []\n",
        "\n",
        "    for i in range(0, len(ticker_list), batch_size):\n",
        "        batch = ticker_list[i:i+batch_size]  # 30'lik gruplara böl\n",
        "        try:\n",
        "            data = yf.download(batch, start=start_date, interval=\"1mo\")[\"Close\"]\n",
        "            if data is not None and not data.empty:\n",
        "                all_data.append(data)\n",
        "            else:\n",
        "                failed_tickers.extend(batch)\n",
        "        except Exception as e:\n",
        "            print(f\"Hata: {e}\")\n",
        "            failed_tickers.extend(batch)\n",
        "\n",
        "        time.sleep(15)  # API limitine takılmamak için bekleme süresi\n",
        "\n",
        "    if all_data:\n",
        "        full_data = pd.concat(all_data, axis=1)\n",
        "        monthly_returns = full_data.interpolate().ffill().bfill()\n",
        "        return monthly_returns, failed_tickers\n",
        "    else:\n",
        "        return None, failed_tickers\n",
        "\n",
        "#Seçilen Şirketlerden Aylık Getirileri Çekme\n",
        "selected_stocks = {\n",
        "    #\"healthcare\": pd.read_csv(\"selected_healthcare.csv\"),\n",
        "    \"technology\": pd.read_csv(\"selected_technology.csv\"),\n",
        "}\n",
        "\n",
        "for sector, df in selected_stocks.items():\n",
        "    tickers = df[\"Symbol\"].tolist()[:500]  # İlk 500 şirketi al\n",
        "    sector_returns, failed_tickers = get_monthly_returns_batched(tickers)\n",
        "\n",
        "    if sector_returns is not None:\n",
        "        file_path = f\"{sector}_monthly_returns.csv\"\n",
        "        sector_returns.to_csv(file_path)\n",
        "\n",
        "    if failed_tickers:\n",
        "        print(f\"{sector} sektöründe {len(failed_tickers)} şirketin verisi bulunamadı: {failed_tickers}\")"
      ],
      "metadata": {
        "colab": {
          "base_uri": "https://localhost:8080/"
        },
        "id": "lngLuMtX6oZI",
        "outputId": "cea5908f-b5c0-4240-832e-d3ad816c7758"
      },
      "execution_count": null,
      "outputs": [
        {
          "output_type": "stream",
          "name": "stdout",
          "text": [
            "📡 Veri çekiliyor: ['HOLO', 'NTCT', 'SYT', 'AGMH', 'PDYN', 'SOUN', 'STX', 'VRNT', 'CGTL', 'SWKS', 'EMKR', 'IDCC', 'GDS', 'AMBA', 'MYSZ', 'ENFN', 'SMRT', 'LGTY', 'OPTX', 'ASAN', 'MNDO', 'TOYO', 'TDY', 'FRSH', 'VNET', 'CRUS', 'AXTI', 'OCC', 'PD', 'CSIQ']\n"
          ]
        },
        {
          "output_type": "stream",
          "name": "stderr",
          "text": [
            "[*********************100%***********************]  30 of 30 completed\n",
            "[                       0%                       ]"
          ]
        },
        {
          "output_type": "stream",
          "name": "stdout",
          "text": [
            "📡 Veri çekiliyor: ['MNDY', 'SMWB', 'CRNC', 'CXM', 'HPQ', 'GB', 'WRAP', 'IOT', 'YXT', 'CPAY', 'MVIS', 'CLFD', 'MU', 'KPLT', 'KLAC', 'CRWD', 'TEAM', 'TYL', 'VSH', 'LAW', 'FTCI', 'CSPI', 'OLO', 'MTLS', 'HPAI', 'EEFT', 'EXOD', 'ATGL', 'ELSE', 'HCKT']\n"
          ]
        },
        {
          "output_type": "stream",
          "name": "stderr",
          "text": [
            "[*********************100%***********************]  30 of 30 completed\n",
            "[                       0%                       ]"
          ]
        },
        {
          "output_type": "stream",
          "name": "stdout",
          "text": [
            "📡 Veri çekiliyor: ['JTAI', 'TAOP', 'REKR', 'ALIT', 'EB', 'WK', 'QXO', 'SMCI', 'PAY', 'YEXT', 'XYZ', 'SGMA', 'AEVA', 'JBL', 'AIRG', 'VECO', 'ULY', 'ML', 'PCLA', 'CSCO', 'SRAD', 'HKD', 'S', 'RZLV', 'OS', 'VVPR', 'G', 'JAMF', 'ZS', 'UPBD']\n"
          ]
        },
        {
          "output_type": "stream",
          "name": "stderr",
          "text": [
            "[*********************100%***********************]  30 of 30 completed\n",
            "[                       0%                       ]"
          ]
        },
        {
          "output_type": "stream",
          "name": "stdout",
          "text": [
            "📡 Veri çekiliyor: ['WIX', 'TASK', 'ERIC', 'TRAK', 'PRTH', 'EGHT', 'DLO', 'VUZI', 'RELY', 'GIB', 'GNSS', 'PRGS', 'HPE', 'BLKB', 'CINT', 'MOBX', 'WIT', 'SMTK', 'MASK', 'TUYA', 'OKTA', 'NXTT', 'TTD', 'DAIO', 'WOLF', 'KOSS', 'SLAB', 'EXLS', 'MAPS', 'CRM']\n"
          ]
        },
        {
          "output_type": "stream",
          "name": "stderr",
          "text": [
            "[*********************100%***********************]  30 of 30 completed\n",
            "[                       0%                       ]"
          ]
        },
        {
          "output_type": "stream",
          "name": "stdout",
          "text": [
            "📡 Veri çekiliyor: ['AMKR', 'PI', 'AMAT', 'AOSL', 'GRAB', 'AUUD', 'BLBX', 'CLVT', 'BMI', 'MRAM', 'MSFT', 'NSIT', 'VMEO', 'HKIT', 'DUOT', 'ASTC', 'ASNS', 'JFU', 'WFCF', 'USIO', 'NOK', 'RTC', 'LYTS', 'AEHR', 'MTEK', 'KVYO', 'PONY', 'FICO', 'RVYL', 'NYAX']\n"
          ]
        },
        {
          "output_type": "stream",
          "name": "stderr",
          "text": [
            "[*********************100%***********************]  30 of 30 completed\n",
            "[                       0%                       ]"
          ]
        },
        {
          "output_type": "stream",
          "name": "stdout",
          "text": [
            "📡 Veri çekiliyor: ['VOXX', 'BHE', 'PAGS', 'GILT', 'GRMN', 'WKEY', 'AAOI', 'RPD', 'ALGM', 'DSP', 'TTEC', 'EVTC', 'UBXG', 'TWLO', 'ICHR', 'DOCN', 'TTAN', 'ANSS', 'OSIS', 'YMM', 'DELL', 'GDDY', 'YOU', 'TRT', 'FLYW', 'DSWL', 'CIEN', 'IDAI', 'CACI', 'VERX']\n"
          ]
        },
        {
          "output_type": "stream",
          "name": "stderr",
          "text": [
            "[*********************100%***********************]  30 of 30 completed\n",
            "[                       0%                       ]"
          ]
        },
        {
          "output_type": "stream",
          "name": "stdout",
          "text": [
            "📡 Veri çekiliyor: ['ADP', 'SOTK', 'RDZN', 'FTFT', 'APPN', 'JKHY', 'MGIC', 'NVNI', 'VYX', 'ASYS', 'SAP', 'BMR', 'VSAT', 'MCHP', 'MLNK', 'TSAT', 'FOUR', 'SVCO', 'DIOD', 'AUR', 'RSSS', 'MTC', 'DATS', 'BASE', 'CDNS', 'MSAI', 'DOCU', 'NRDY', 'TEL', 'SIMO']\n"
          ]
        },
        {
          "output_type": "stream",
          "name": "stderr",
          "text": [
            "[*********************100%***********************]  30 of 30 completed\n"
          ]
        },
        {
          "output_type": "stream",
          "name": "stdout",
          "text": [
            "📡 Veri çekiliyor: ['SYNX', 'WLDS', nan, 'ONDS', 'SONY', 'KLTR', 'NCNO', 'DJCO', 'DQ', 'CNXN', 'TRMB', 'NTAP', 'NXPI', 'BKSY', 'SGN', 'SONM', 'PXLW', 'VNT', 'VERI', 'QBTS', 'IBTA', 'ROG', 'SNX', 'IBEX', 'GPRO', 'UBER', 'MIND', 'JNPR', 'UCTT', 'LPL']\n",
            "Hata: expected string or bytes-like object, got 'float'\n",
            "📡 Veri çekiliyor: ['WCT', 'AFRM', 'HUBS', 'CMBM', 'MYNA', 'LRCX', 'SONO', 'CTM', 'CSLR', 'DAVA', 'RXT', 'QRVO', 'ALTS', 'AIFF', 'CRNT', 'TENB', 'XRX', 'ATCH', 'OCFT', 'BNAI', 'MLAB', 'SVRE', 'MKSI', 'EGAN', 'DBD', 'IONQ', 'PAYO', 'SAIH', 'FTV', 'CLMB']\n"
          ]
        },
        {
          "output_type": "stream",
          "name": "stderr",
          "text": [
            "[**********************60%****                   ]  18 of 30 completedERROR:yfinance:Could not get exchangeTimezoneName for ticker 'LRCX' reason: 'chart'\n",
            "[*********************100%***********************]  30 of 30 completed\n",
            "ERROR:yfinance:\n",
            "1 Failed download:\n",
            "ERROR:yfinance:['LRCX']: YFTzMissingError('$%ticker%: possibly delisted; no timezone found')\n"
          ]
        },
        {
          "output_type": "stream",
          "name": "stdout",
          "text": [
            "📡 Veri çekiliyor: ['CLPS', 'LDOS', 'DUOL', 'IMTE', 'UI', 'COMM', 'PSTG', 'CEVA', 'ALLT', 'SCKT', 'CLRO', 'TLS', 'ACN', 'MSI', 'SNPS', 'SATS', 'NXPL', 'BTCM', 'ARRY', 'OTEX', 'ARBB', 'XNET', 'FN', 'MX', 'TROO', 'RGTI', 'AIXI', 'APPS', 'QCOM', 'TSSI']\n"
          ]
        },
        {
          "output_type": "stream",
          "name": "stderr",
          "text": [
            "[*********************100%***********************]  30 of 30 completed\n",
            "[                       0%                       ]"
          ]
        },
        {
          "output_type": "stream",
          "name": "stdout",
          "text": [
            "📡 Veri çekiliyor: ['ALKT', 'DGNX', 'MXL', 'SABR', 'BIGC', 'PHUN', 'INFN', 'BAND', 'ITRN', 'PLTR', 'DV', 'ANET', 'QLYS', 'CCRD', 'IFBD', 'WATT', 'IMOS', 'VRAR', 'LITE', 'VLN', 'SSNC', 'HLIT', 'HIMX', 'MRT', 'SEMR', 'RMBS', 'SWVL', 'PSFE', 'DOX', 'ZM']\n"
          ]
        },
        {
          "output_type": "stream",
          "name": "stderr",
          "text": [
            "[*********************100%***********************]  30 of 30 completed\n",
            "[                       0%                       ]"
          ]
        },
        {
          "output_type": "stream",
          "name": "stdout",
          "text": [
            "📡 Veri çekiliyor: ['CTLP', 'STNE', 'KEYS', 'MOB', 'SPSC', 'ALRM', 'ESE', 'CHKP', 'GLE', 'AZPN', 'CLS', 'LGCL', 'BTDR', 'FROG', 'AAPL', 'PRSO', 'DGII', 'UTSI', 'API', 'VIAV', 'CMTL', 'GEN', 'BDC', 'DHX', 'DTSS', 'PSQH', 'TDC', 'PLUS', 'SSTI', 'PAYC']\n"
          ]
        },
        {
          "output_type": "stream",
          "name": "stderr",
          "text": [
            "[*********************100%***********************]  30 of 30 completed\n",
            "[                       0%                       ]"
          ]
        },
        {
          "output_type": "stream",
          "name": "stdout",
          "text": [
            "📡 Veri çekiliyor: ['NVEC', 'VTSI', 'JDZG', 'APCX', 'SWI', 'EBON', 'AVDX', 'LSPD', 'OSPN', 'ADSK', 'ACMR', 'INOD', 'SMXT', 'LIF', 'WEX', 'LYT', 'AWRE', 'KSPI', 'GLW', 'QMCO', 'LDTC', 'STM', 'NVTS', 'PET', 'XTKG', 'RPAY', 'LSCC', 'BBAI', 'ETWO', 'CCSI']\n"
          ]
        },
        {
          "output_type": "stream",
          "name": "stderr",
          "text": [
            "[*********************100%***********************]  30 of 30 completed\n",
            "[                       0%                       ]"
          ]
        },
        {
          "output_type": "stream",
          "name": "stdout",
          "text": [
            "📡 Veri çekiliyor: ['GITS', 'DAY', 'UMC', 'SELX', 'TURB', 'CWAN', 'SMSI', 'NOVA', 'DDD', 'ASTI', 'OSS', 'NABL', 'PLAB', 'BNZI', 'GTLB', 'ELWS', 'PCTY', 'IIIV', 'ARBE', 'RUN', 'INTU', 'INFA', 'AXIL', 'EVCM', 'BLND', 'MSN', 'IBM', 'SSYS', 'RCAT', 'ACLS']\n"
          ]
        },
        {
          "output_type": "stream",
          "name": "stderr",
          "text": [
            "[*********************100%***********************]  30 of 30 completed\n",
            "[                       0%                       ]"
          ]
        },
        {
          "output_type": "stream",
          "name": "stdout",
          "text": [
            "📡 Veri çekiliyor: ['FORTY', 'FI', 'SOL', 'PSN', 'FTNT', 'ARQQ', 'PLXS', 'RAMP', 'BEEM', 'CGNT', 'AISP', 'FIVN', 'AUID', 'KD', 'LOGI', 'AMPG', 'NN', 'YALA', 'RUM', 'FFIV', 'FEBO', 'CVLT', 'KARO', 'LASR', 'FIS', 'FEIM', 'BOX', 'PAR', 'ARM', 'INSG']\n"
          ]
        },
        {
          "output_type": "stream",
          "name": "stderr",
          "text": [
            "[*********************100%***********************]  30 of 30 completed\n",
            "[                       0%                       ]"
          ]
        },
        {
          "output_type": "stream",
          "name": "stdout",
          "text": [
            "📡 Veri çekiliyor: ['APLD', 'CORZ', 'BKKT', 'REFR', 'WTO', 'NXT', 'FSLR', 'FRGT', 'OOMA', 'MDB', 'NVMI', 'NATL', 'RIME', 'QUIK', 'ZEPP', 'III', 'EZFL', 'AZ', 'ORCL', 'CYN', 'WDAY', 'IMMR', 'MAXN', 'APPF', 'AMD', 'SNOW', 'OST', 'GMM', 'AVGO', 'SPRU']\n"
          ]
        },
        {
          "output_type": "stream",
          "name": "stderr",
          "text": [
            "[*********************100%***********************]  30 of 30 completed\n",
            "[                       0%                       ]"
          ]
        },
        {
          "output_type": "stream",
          "name": "stdout",
          "text": [
            "📡 Veri çekiliyor: ['PAYS', 'MQ', 'NEON', 'EXFY', 'KULR', 'CISO', 'SYNA', 'GFS', 'WNS', 'SANG', 'VRNS', 'APP', 'FKWL', 'SMTC', 'NNDM', 'NET', 'DAVE', 'AI', 'INTC', 'GLOB']\n"
          ]
        },
        {
          "output_type": "stream",
          "name": "stderr",
          "text": [
            "[*********************100%***********************]  20 of 20 completed\n"
          ]
        },
        {
          "output_type": "stream",
          "name": "stdout",
          "text": [
            "✅ technology sektörüne ait aylık kapanış fiyatları kaydedildi!\n",
            "❌ technology sektöründe 30 şirketin verisi bulunamadı: ['SYNX', 'WLDS', nan, 'ONDS', 'SONY', 'KLTR', 'NCNO', 'DJCO', 'DQ', 'CNXN', 'TRMB', 'NTAP', 'NXPI', 'BKSY', 'SGN', 'SONM', 'PXLW', 'VNT', 'VERI', 'QBTS', 'IBTA', 'ROG', 'SNX', 'IBEX', 'GPRO', 'UBER', 'MIND', 'JNPR', 'UCTT', 'LPL']\n"
          ]
        }
      ]
    },
    {
      "cell_type": "markdown",
      "source": [
        "#Çekilen verilerdeki eksikliklerin ve hataların düzeltilmesi"
      ],
      "metadata": {
        "id": "2KiMzl5sU7IX"
      }
    },
    {
      "cell_type": "code",
      "source": [
        "import os\n",
        "\n",
        "file_paths = {\n",
        "    \"financials\": \"financials_monthly_returns.csv\",\n",
        "    \"healthcare\": \"healthcare_monthly_returns.csv\",\n",
        "    \"technology\": \"technology_monthly_returns.csv\"\n",
        "}\n",
        "\n",
        "# Eksik verileri doldurma fonksiyonu\n",
        "def fill_missing_values(df):\n",
        "    df = df.interpolate(method='linear', axis=0)  # Lineer interpolasyon\n",
        "    df = df.ffill().bfill()  # İleri ve geri doldurma\n",
        "    return df\n",
        "\n",
        "# Düzeltilmiş dosyaları kaydetme\n",
        "for sector, path in file_paths.items():\n",
        "    df = pd.read_csv(path, index_col=0, parse_dates=True)\n",
        "    missing_before = df.isnull().sum().sum()\n",
        "    df_filled = fill_missing_values(df)\n",
        "    missing_after = df_filled.isnull().sum().sum()\n",
        "\n",
        "    output_path = f\"{sector}_monthly_returns_filled.csv\"\n",
        "    df_filled.to_csv(output_path)"
      ],
      "metadata": {
        "id": "0jWZMb06ILMM"
      },
      "execution_count": null,
      "outputs": []
    },
    {
      "cell_type": "code",
      "source": [
        "file_paths = {\n",
        "    \"financials\": \"financials_monthly_returns_filled.csv\",\n",
        "    \"healthcare\": \"healthcare_monthly_returns_filled.csv\",\n",
        "    \"technology\": \"technology_monthly_returns_filled.csv\"\n",
        "}\n",
        "\n",
        "#Verileri Yükleme ve TSFresh Formatına Dönüştürme\n",
        "tsfresh_data = []\n",
        "\n",
        "for sector, file_path in file_paths.items():\n",
        "    df = pd.read_csv(file_path, index_col=0, parse_dates=True)\n",
        "    #df = df.interpolate().ffill().bfill()\n",
        "\n",
        "    df_long = df.stack().reset_index()\n",
        "    df_long.columns = [\"Date\", \"Company\", \"Return\"]\n",
        "    df_long[\"Sector\"] = sector\n",
        "\n",
        "    tsfresh_data.append(df_long)\n",
        "\n",
        "#Tüm Verileri Birleştirme\n",
        "final_tsfresh_data = pd.concat(tsfresh_data, ignore_index=True)\n",
        "\n",
        "final_tsfresh_data.to_csv(\"tsfresh_ready_data.csv\", index=False)"
      ],
      "metadata": {
        "id": "F3mP-SjFILI2"
      },
      "execution_count": null,
      "outputs": []
    },
    {
      "cell_type": "markdown",
      "source": [
        "#Özellik Mühendisliği (TSFRESH ile)"
      ],
      "metadata": {
        "id": "PFODh7FmVBNJ"
      }
    },
    {
      "cell_type": "code",
      "source": [
        "!pip uninstall scipy tsfresh -y\n",
        "!pip install --upgrade scipy==1.14.1 tsfresh\n",
        "!pip install --upgrade dask tsfresh\n",
        "!pip install dask[dataframe]"
      ],
      "metadata": {
        "colab": {
          "base_uri": "https://localhost:8080/"
        },
        "id": "9JzBKqvhjnjZ",
        "outputId": "bdb26f15-ec1b-4ae6-bb2d-12e9385d27b1"
      },
      "execution_count": null,
      "outputs": [
        {
          "output_type": "stream",
          "name": "stdout",
          "text": [
            "Found existing installation: scipy 1.14.1\n",
            "Uninstalling scipy-1.14.1:\n",
            "  Successfully uninstalled scipy-1.14.1\n",
            "Found existing installation: tsfresh 0.20.3\n",
            "Uninstalling tsfresh-0.20.3:\n",
            "  Successfully uninstalled tsfresh-0.20.3\n",
            "Collecting scipy==1.14.1\n",
            "  Using cached scipy-1.14.1-cp311-cp311-manylinux_2_17_x86_64.manylinux2014_x86_64.whl.metadata (60 kB)\n",
            "Collecting tsfresh\n",
            "  Using cached tsfresh-0.20.3-py2.py3-none-any.whl.metadata (2.6 kB)\n",
            "Requirement already satisfied: numpy<2.3,>=1.23.5 in /usr/local/lib/python3.11/dist-packages (from scipy==1.14.1) (1.26.4)\n",
            "Requirement already satisfied: requests>=2.9.1 in /usr/local/lib/python3.11/dist-packages (from tsfresh) (2.32.3)\n",
            "Requirement already satisfied: pandas>=0.25.0 in /usr/local/lib/python3.11/dist-packages (from tsfresh) (2.2.2)\n",
            "Requirement already satisfied: statsmodels>=0.13 in /usr/local/lib/python3.11/dist-packages (from tsfresh) (0.14.4)\n",
            "Requirement already satisfied: patsy>=0.4.1 in /usr/local/lib/python3.11/dist-packages (from tsfresh) (1.0.1)\n",
            "Requirement already satisfied: scikit-learn>=0.22.0 in /usr/local/lib/python3.11/dist-packages (from tsfresh) (1.6.1)\n",
            "Requirement already satisfied: tqdm>=4.10.0 in /usr/local/lib/python3.11/dist-packages (from tsfresh) (4.67.1)\n",
            "Requirement already satisfied: stumpy>=1.7.2 in /usr/local/lib/python3.11/dist-packages (from tsfresh) (1.13.0)\n",
            "Requirement already satisfied: cloudpickle in /usr/local/lib/python3.11/dist-packages (from tsfresh) (3.1.1)\n",
            "Requirement already satisfied: python-dateutil>=2.8.2 in /usr/local/lib/python3.11/dist-packages (from pandas>=0.25.0->tsfresh) (2.8.2)\n",
            "Requirement already satisfied: pytz>=2020.1 in /usr/local/lib/python3.11/dist-packages (from pandas>=0.25.0->tsfresh) (2025.1)\n",
            "Requirement already satisfied: tzdata>=2022.7 in /usr/local/lib/python3.11/dist-packages (from pandas>=0.25.0->tsfresh) (2025.1)\n",
            "Requirement already satisfied: charset-normalizer<4,>=2 in /usr/local/lib/python3.11/dist-packages (from requests>=2.9.1->tsfresh) (3.4.1)\n",
            "Requirement already satisfied: idna<4,>=2.5 in /usr/local/lib/python3.11/dist-packages (from requests>=2.9.1->tsfresh) (3.10)\n",
            "Requirement already satisfied: urllib3<3,>=1.21.1 in /usr/local/lib/python3.11/dist-packages (from requests>=2.9.1->tsfresh) (2.3.0)\n",
            "Requirement already satisfied: certifi>=2017.4.17 in /usr/local/lib/python3.11/dist-packages (from requests>=2.9.1->tsfresh) (2025.1.31)\n",
            "Requirement already satisfied: joblib>=1.2.0 in /usr/local/lib/python3.11/dist-packages (from scikit-learn>=0.22.0->tsfresh) (1.4.2)\n",
            "Requirement already satisfied: threadpoolctl>=3.1.0 in /usr/local/lib/python3.11/dist-packages (from scikit-learn>=0.22.0->tsfresh) (3.5.0)\n",
            "Requirement already satisfied: packaging>=21.3 in /usr/local/lib/python3.11/dist-packages (from statsmodels>=0.13->tsfresh) (24.2)\n",
            "Requirement already satisfied: numba>=0.57.1 in /usr/local/lib/python3.11/dist-packages (from stumpy>=1.7.2->tsfresh) (0.61.0)\n",
            "Requirement already satisfied: llvmlite<0.45,>=0.44.0dev0 in /usr/local/lib/python3.11/dist-packages (from numba>=0.57.1->stumpy>=1.7.2->tsfresh) (0.44.0)\n",
            "Requirement already satisfied: six>=1.5 in /usr/local/lib/python3.11/dist-packages (from python-dateutil>=2.8.2->pandas>=0.25.0->tsfresh) (1.17.0)\n",
            "Using cached scipy-1.14.1-cp311-cp311-manylinux_2_17_x86_64.manylinux2014_x86_64.whl (41.2 MB)\n",
            "Using cached tsfresh-0.20.3-py2.py3-none-any.whl (95 kB)\n",
            "Installing collected packages: scipy, tsfresh\n",
            "\u001b[31mERROR: pip's dependency resolver does not currently take into account all the packages that are installed. This behaviour is the source of the following dependency conflicts.\n",
            "gensim 4.3.3 requires scipy<1.14.0,>=1.7.0, but you have scipy 1.14.1 which is incompatible.\u001b[0m\u001b[31m\n",
            "\u001b[0mSuccessfully installed scipy-1.14.1 tsfresh-0.20.3\n",
            "Requirement already satisfied: dask in /usr/local/lib/python3.11/dist-packages (2025.1.0)\n",
            "Requirement already satisfied: tsfresh in /usr/local/lib/python3.11/dist-packages (0.20.3)\n",
            "Requirement already satisfied: click>=8.1 in /usr/local/lib/python3.11/dist-packages (from dask) (8.1.8)\n",
            "Requirement already satisfied: cloudpickle>=3.0.0 in /usr/local/lib/python3.11/dist-packages (from dask) (3.1.1)\n",
            "Requirement already satisfied: fsspec>=2021.09.0 in /usr/local/lib/python3.11/dist-packages (from dask) (2024.10.0)\n",
            "Requirement already satisfied: packaging>=20.0 in /usr/local/lib/python3.11/dist-packages (from dask) (24.2)\n",
            "Requirement already satisfied: partd>=1.4.0 in /usr/local/lib/python3.11/dist-packages (from dask) (1.4.2)\n",
            "Requirement already satisfied: pyyaml>=5.3.1 in /usr/local/lib/python3.11/dist-packages (from dask) (6.0.2)\n",
            "Requirement already satisfied: toolz>=0.10.0 in /usr/local/lib/python3.11/dist-packages (from dask) (0.12.1)\n",
            "Requirement already satisfied: importlib_metadata>=4.13.0 in /usr/local/lib/python3.11/dist-packages (from dask) (8.6.1)\n",
            "Requirement already satisfied: requests>=2.9.1 in /usr/local/lib/python3.11/dist-packages (from tsfresh) (2.32.3)\n",
            "Requirement already satisfied: numpy>=1.15.1 in /usr/local/lib/python3.11/dist-packages (from tsfresh) (1.26.4)\n",
            "Requirement already satisfied: pandas>=0.25.0 in /usr/local/lib/python3.11/dist-packages (from tsfresh) (2.2.2)\n",
            "Requirement already satisfied: statsmodels>=0.13 in /usr/local/lib/python3.11/dist-packages (from tsfresh) (0.14.4)\n",
            "Requirement already satisfied: patsy>=0.4.1 in /usr/local/lib/python3.11/dist-packages (from tsfresh) (1.0.1)\n",
            "Requirement already satisfied: scikit-learn>=0.22.0 in /usr/local/lib/python3.11/dist-packages (from tsfresh) (1.6.1)\n",
            "Requirement already satisfied: tqdm>=4.10.0 in /usr/local/lib/python3.11/dist-packages (from tsfresh) (4.67.1)\n",
            "Requirement already satisfied: stumpy>=1.7.2 in /usr/local/lib/python3.11/dist-packages (from tsfresh) (1.13.0)\n",
            "Requirement already satisfied: scipy>=1.14.0 in /usr/local/lib/python3.11/dist-packages (from tsfresh) (1.14.1)\n",
            "Requirement already satisfied: zipp>=3.20 in /usr/local/lib/python3.11/dist-packages (from importlib_metadata>=4.13.0->dask) (3.21.0)\n",
            "Requirement already satisfied: python-dateutil>=2.8.2 in /usr/local/lib/python3.11/dist-packages (from pandas>=0.25.0->tsfresh) (2.8.2)\n",
            "Requirement already satisfied: pytz>=2020.1 in /usr/local/lib/python3.11/dist-packages (from pandas>=0.25.0->tsfresh) (2025.1)\n",
            "Requirement already satisfied: tzdata>=2022.7 in /usr/local/lib/python3.11/dist-packages (from pandas>=0.25.0->tsfresh) (2025.1)\n",
            "Requirement already satisfied: locket in /usr/local/lib/python3.11/dist-packages (from partd>=1.4.0->dask) (1.0.0)\n",
            "Requirement already satisfied: charset-normalizer<4,>=2 in /usr/local/lib/python3.11/dist-packages (from requests>=2.9.1->tsfresh) (3.4.1)\n",
            "Requirement already satisfied: idna<4,>=2.5 in /usr/local/lib/python3.11/dist-packages (from requests>=2.9.1->tsfresh) (3.10)\n",
            "Requirement already satisfied: urllib3<3,>=1.21.1 in /usr/local/lib/python3.11/dist-packages (from requests>=2.9.1->tsfresh) (2.3.0)\n",
            "Requirement already satisfied: certifi>=2017.4.17 in /usr/local/lib/python3.11/dist-packages (from requests>=2.9.1->tsfresh) (2025.1.31)\n",
            "Requirement already satisfied: joblib>=1.2.0 in /usr/local/lib/python3.11/dist-packages (from scikit-learn>=0.22.0->tsfresh) (1.4.2)\n",
            "Requirement already satisfied: threadpoolctl>=3.1.0 in /usr/local/lib/python3.11/dist-packages (from scikit-learn>=0.22.0->tsfresh) (3.5.0)\n",
            "Requirement already satisfied: numba>=0.57.1 in /usr/local/lib/python3.11/dist-packages (from stumpy>=1.7.2->tsfresh) (0.61.0)\n",
            "Requirement already satisfied: llvmlite<0.45,>=0.44.0dev0 in /usr/local/lib/python3.11/dist-packages (from numba>=0.57.1->stumpy>=1.7.2->tsfresh) (0.44.0)\n",
            "Requirement already satisfied: six>=1.5 in /usr/local/lib/python3.11/dist-packages (from python-dateutil>=2.8.2->pandas>=0.25.0->tsfresh) (1.17.0)\n",
            "Requirement already satisfied: dask[dataframe] in /usr/local/lib/python3.11/dist-packages (2025.1.0)\n",
            "Requirement already satisfied: click>=8.1 in /usr/local/lib/python3.11/dist-packages (from dask[dataframe]) (8.1.8)\n",
            "Requirement already satisfied: cloudpickle>=3.0.0 in /usr/local/lib/python3.11/dist-packages (from dask[dataframe]) (3.1.1)\n",
            "Requirement already satisfied: fsspec>=2021.09.0 in /usr/local/lib/python3.11/dist-packages (from dask[dataframe]) (2024.10.0)\n",
            "Requirement already satisfied: packaging>=20.0 in /usr/local/lib/python3.11/dist-packages (from dask[dataframe]) (24.2)\n",
            "Requirement already satisfied: partd>=1.4.0 in /usr/local/lib/python3.11/dist-packages (from dask[dataframe]) (1.4.2)\n",
            "Requirement already satisfied: pyyaml>=5.3.1 in /usr/local/lib/python3.11/dist-packages (from dask[dataframe]) (6.0.2)\n",
            "Requirement already satisfied: toolz>=0.10.0 in /usr/local/lib/python3.11/dist-packages (from dask[dataframe]) (0.12.1)\n",
            "Requirement already satisfied: importlib_metadata>=4.13.0 in /usr/local/lib/python3.11/dist-packages (from dask[dataframe]) (8.6.1)\n",
            "Requirement already satisfied: pandas>=2.0 in /usr/local/lib/python3.11/dist-packages (from dask[dataframe]) (2.2.2)\n",
            "Requirement already satisfied: pyarrow>=14.0.1 in /usr/local/lib/python3.11/dist-packages (from dask[dataframe]) (17.0.0)\n",
            "Requirement already satisfied: zipp>=3.20 in /usr/local/lib/python3.11/dist-packages (from importlib_metadata>=4.13.0->dask[dataframe]) (3.21.0)\n",
            "Requirement already satisfied: numpy>=1.23.2 in /usr/local/lib/python3.11/dist-packages (from pandas>=2.0->dask[dataframe]) (1.26.4)\n",
            "Requirement already satisfied: python-dateutil>=2.8.2 in /usr/local/lib/python3.11/dist-packages (from pandas>=2.0->dask[dataframe]) (2.8.2)\n",
            "Requirement already satisfied: pytz>=2020.1 in /usr/local/lib/python3.11/dist-packages (from pandas>=2.0->dask[dataframe]) (2025.1)\n",
            "Requirement already satisfied: tzdata>=2022.7 in /usr/local/lib/python3.11/dist-packages (from pandas>=2.0->dask[dataframe]) (2025.1)\n",
            "Requirement already satisfied: locket in /usr/local/lib/python3.11/dist-packages (from partd>=1.4.0->dask[dataframe]) (1.0.0)\n",
            "Requirement already satisfied: six>=1.5 in /usr/local/lib/python3.11/dist-packages (from python-dateutil>=2.8.2->pandas>=2.0->dask[dataframe]) (1.17.0)\n"
          ]
        }
      ]
    },
    {
      "cell_type": "code",
      "source": [
        "tsfresh_data = pd.read_csv(\"tsfresh_ready_data.csv\")\n",
        "\n",
        "print(tsfresh_data.head())\n",
        "\n",
        "print(tsfresh_data.info())"
      ],
      "metadata": {
        "colab": {
          "base_uri": "https://localhost:8080/"
        },
        "id": "xOLs4f3IwElR",
        "outputId": "75c935fd-acf9-45f7-c0c8-55f1ea88d36b"
      },
      "execution_count": null,
      "outputs": [
        {
          "output_type": "stream",
          "name": "stdout",
          "text": [
            "         Date Company     Return      Sector\n",
            "0  2005-01-01     AGM  12.954938  financials\n",
            "1  2005-01-01      AX   2.457500  financials\n",
            "2  2005-01-01    BBAR   3.358291  financials\n",
            "3  2005-01-01     BFH  30.376230  financials\n",
            "4  2005-01-01     BHB   6.223469  financials\n",
            "<class 'pandas.core.frame.DataFrame'>\n",
            "RangeIndex: 353569 entries, 0 to 353568\n",
            "Data columns (total 4 columns):\n",
            " #   Column   Non-Null Count   Dtype  \n",
            "---  ------   --------------   -----  \n",
            " 0   Date     353569 non-null  object \n",
            " 1   Company  353569 non-null  object \n",
            " 2   Return   353569 non-null  float64\n",
            " 3   Sector   353569 non-null  object \n",
            "dtypes: float64(1), object(3)\n",
            "memory usage: 10.8+ MB\n",
            "None\n"
          ]
        }
      ]
    },
    {
      "cell_type": "markdown",
      "source": [
        "#Verilen TSFRESH için uygun formata getirilmesi"
      ],
      "metadata": {
        "id": "zWZI0Kd7VRIx"
      }
    },
    {
      "cell_type": "code",
      "source": [
        "#TSFresh için uygun format\n",
        "tsfresh_data.rename(columns={\"Company\": \"id\", \"Date\": \"time\", \"Return\": \"value\"}, inplace=True)\n",
        "\n",
        "#Tarih formatını doğru hale getirme\n",
        "tsfresh_data[\"time\"] = pd.to_datetime(tsfresh_data[\"time\"])\n",
        "\n",
        "print(tsfresh_data.head())"
      ],
      "metadata": {
        "colab": {
          "base_uri": "https://localhost:8080/"
        },
        "id": "S_TNCbCEwEho",
        "outputId": "b558a3b0-891f-4c9e-ed07-89b290a34633"
      },
      "execution_count": null,
      "outputs": [
        {
          "output_type": "stream",
          "name": "stdout",
          "text": [
            "        time    id      value      Sector\n",
            "0 2005-01-01   AGM  12.954938  financials\n",
            "1 2005-01-01    AX   2.457500  financials\n",
            "2 2005-01-01  BBAR   3.358291  financials\n",
            "3 2005-01-01   BFH  30.376230  financials\n",
            "4 2005-01-01   BHB   6.223469  financials\n"
          ]
        }
      ]
    },
    {
      "cell_type": "markdown",
      "source": [
        "#Özellik çıkarma (extract işlemi)"
      ],
      "metadata": {
        "id": "N217LZhdVWac"
      }
    },
    {
      "cell_type": "code",
      "source": [
        "from tsfresh.feature_extraction import extract_features\n",
        "\n",
        "#Özellik çıkarma işlemi\n",
        "extracted_features = extract_features(\n",
        "    tsfresh_data,\n",
        "    column_id=\"id\",\n",
        "    column_sort=\"time\",\n",
        "    column_value=\"value\"\n",
        ")\n",
        "\n",
        "print(extracted_features.head())\n",
        "\n",
        "extracted_features.to_csv(\"extracted_tsfresh_features.csv\")"
      ],
      "metadata": {
        "colab": {
          "base_uri": "https://localhost:8080/"
        },
        "id": "MFONT_m9wEfG",
        "outputId": "2ada83cd-0f72-43ba-f8c9-f9dc57496255"
      },
      "execution_count": null,
      "outputs": [
        {
          "output_type": "stream",
          "name": "stderr",
          "text": [
            "WARNING:tsfresh.feature_extraction.settings:Dependency not available for matrix_profile, this feature will be disabled!\n",
            "Feature Extraction: 100%|██████████| 1459/1459 [05:10<00:00,  4.70it/s]\n"
          ]
        },
        {
          "output_type": "stream",
          "name": "stdout",
          "text": [
            "      value__variance_larger_than_standard_deviation  \\\n",
            "AADI                                             1.0   \n",
            "AAM                                              0.0   \n",
            "AAME                                             0.0   \n",
            "AAMI                                             1.0   \n",
            "AAOI                                             1.0   \n",
            "\n",
            "      value__has_duplicate_max  value__has_duplicate_min  \\\n",
            "AADI                       1.0                       0.0   \n",
            "AAM                        1.0                       1.0   \n",
            "AAME                       0.0                       0.0   \n",
            "AAMI                       0.0                       0.0   \n",
            "AAOI                       0.0                       0.0   \n",
            "\n",
            "      value__has_duplicate  value__sum_values  value__abs_energy  \\\n",
            "AADI                   1.0       12737.589998      848604.001743   \n",
            "AAM                    1.0        2440.149991       24503.469920   \n",
            "AAME                   1.0         625.275474        1830.654113   \n",
            "AAMI                   1.0        3787.578138       63219.594098   \n",
            "AAOI                   1.0        3755.485034       92143.828974   \n",
            "\n",
            "      value__mean_abs_change  value__mean_change  \\\n",
            "AADI                1.108008           -0.284564   \n",
            "AAM                 0.000496            0.000496   \n",
            "AAME                0.193391           -0.004622   \n",
            "AAMI                0.660491            0.044974   \n",
            "AAOI                2.069751            0.074232   \n",
            "\n",
            "      value__mean_second_derivative_central  value__median  ...  \\\n",
            "AADI                              -0.000438      71.250000  ...   \n",
            "AAM                                0.000000      10.040000  ...   \n",
            "AAME                               0.000056       2.554086  ...   \n",
            "AAMI                               0.000000      14.256299  ...   \n",
            "AAOI                               0.005521      12.680000  ...   \n",
            "\n",
            "      value__fourier_entropy__bins_5  value__fourier_entropy__bins_10  \\\n",
            "AADI                        0.131054                         0.178389   \n",
            "AAM                         0.095013                         0.095013   \n",
            "AAME                        0.083650                         0.167026   \n",
            "AAMI                        0.281598                         0.375634   \n",
            "AAOI                        0.292961                         0.472907   \n",
            "\n",
            "      value__fourier_entropy__bins_100  \\\n",
            "AADI                          0.378393   \n",
            "AAM                           0.095013   \n",
            "AAME                          0.522827   \n",
            "AAMI                          0.970571   \n",
            "AAOI                          1.272609   \n",
            "\n",
            "      value__permutation_entropy__dimension_3__tau_1  \\\n",
            "AADI                                        1.001084   \n",
            "AAM                                        -0.000000   \n",
            "AAME                                        1.727405   \n",
            "AAMI                                        1.178191   \n",
            "AAOI                                        1.392407   \n",
            "\n",
            "      value__permutation_entropy__dimension_4__tau_1  \\\n",
            "AADI                                        1.525391   \n",
            "AAM                                        -0.000000   \n",
            "AAME                                        2.983112   \n",
            "AAMI                                        1.941101   \n",
            "AAOI                                        2.133331   \n",
            "\n",
            "      value__permutation_entropy__dimension_5__tau_1  \\\n",
            "AADI                                        1.913590   \n",
            "AAM                                        -0.000000   \n",
            "AAME                                        4.185975   \n",
            "AAMI                                        2.553339   \n",
            "AAOI                                        2.729646   \n",
            "\n",
            "      value__permutation_entropy__dimension_6__tau_1  \\\n",
            "AADI                                        2.078987   \n",
            "AAM                                        -0.000000   \n",
            "AAME                                        4.952156   \n",
            "AAMI                                        2.964015   \n",
            "AAOI                                        3.127651   \n",
            "\n",
            "      value__permutation_entropy__dimension_7__tau_1  \\\n",
            "AADI                                        2.159384   \n",
            "AAM                                        -0.000000   \n",
            "AAME                                        5.295155   \n",
            "AAMI                                        3.143094   \n",
            "AAOI                                        3.334895   \n",
            "\n",
            "      value__query_similarity_count__query_None__threshold_0.0  \\\n",
            "AADI                                                NaN          \n",
            "AAM                                                 NaN          \n",
            "AAME                                                NaN          \n",
            "AAMI                                                NaN          \n",
            "AAOI                                                NaN          \n",
            "\n",
            "      value__mean_n_absolute_max__number_of_maxima_7  \n",
            "AADI                                       71.250000  \n",
            "AAM                                        10.101429  \n",
            "AAME                                        4.455444  \n",
            "AAMI                                       28.103929  \n",
            "AAOI                                       65.489999  \n",
            "\n",
            "[5 rows x 783 columns]\n"
          ]
        }
      ]
    },
    {
      "cell_type": "markdown",
      "source": [
        "# Özellik seçme (select işlemi)"
      ],
      "metadata": {
        "id": "__Tv404HVftO"
      }
    },
    {
      "cell_type": "code",
      "source": [
        "from tsfresh import select_features\n",
        "from tsfresh.utilities.dataframe_functions import impute\n",
        "\n",
        "extracted_features = pd.read_csv(\"extracted_tsfresh_features.csv\", index_col=0)\n",
        "tsfresh_data = pd.read_csv(\"tsfresh_ready_data.csv\")\n",
        "\n",
        "#Eksik Verileri Düzeltme\n",
        "impute(extracted_features)\n",
        "\n",
        "#`y` Hedef Değişkenini Düzelt (Tekil Şirket İsimleri ile)\n",
        "if \"Company\" in tsfresh_data.columns:\n",
        "    y = tsfresh_data[[\"Company\", \"Sector\"]].drop_duplicates(subset=[\"Company\"]).set_index(\"Company\")[\"Sector\"]\n",
        "    y = y.reindex(extracted_features.index)  # Şirket isimleriyle eşleştirme\n",
        "else:\n",
        "    raise ValueError(\"Hata: `Company` sütunu bulunamadı!\")\n",
        "\n",
        "#En Önemli Özellikleri Seçelim\n",
        "selected_features = select_features(extracted_features, y)\n",
        "\n",
        "selected_features.to_csv(\"selected_tsfresh_features.csv\")"
      ],
      "metadata": {
        "colab": {
          "base_uri": "https://localhost:8080/"
        },
        "id": "aHWgfXi34i7e",
        "outputId": "f50864b6-35b3-42a1-9727-395999a9eb3a"
      },
      "execution_count": null,
      "outputs": [
        {
          "output_type": "stream",
          "name": "stderr",
          "text": [
            "/usr/local/lib/python3.11/dist-packages/tsfresh/utilities/dataframe_functions.py:198: RuntimeWarning: The columns ['value__query_similarity_count__query_None__threshold_0.0'] did not have any finite values. Filling with zeros.\n",
            "  warnings.warn(\n"
          ]
        }
      ]
    },
    {
      "cell_type": "markdown",
      "source": [
        "## **3. Model Eğitimi ve Optimizasyonu**\n",
        "### **3.2 Veri Setini Bölme**\n",
        "  - Veri setindeki eksiklikler ve hatalar düzeltilmiştir.\n",
        "  - Veri seti %80 eğitim ve %20 test olarak bölünmüştür.\n",
        "\n",
        "### **3.2 Kullanılan Makine Öğrenimi Algoritmaları**\n",
        "Projede farklı makine öğrenimi modelleri kullanılarak en iyi sonucu veren model belirlendi:\n",
        "- **Random Forest Classifier**\n",
        "- **Gradient Boosting Classifier**\n",
        "- **XGBoost Classifier** --> En iyi 2.\n",
        "- **Logistic Regression**\n",
        "- **KNN**\n",
        "- **CatBoost** --> En iyi 1.\n",
        "\n",
        "### **3.3 Model Seçim Süreci**\n",
        "Modellerin eğitiminde bazı metrikler kullanılmıştır. XGBoost modeli, yapılan hiperparametre optimizasyonu sonucunda en yüksek başarıyı göstermiştir.\n",
        "\n",
        "- **Performans Metrikleri:**\n",
        "  - Doğruluk (accuracy)\n",
        "  - Precision, Recall, F1-score\n",
        "  - Confusion Matrix\n",
        "\n",
        "### **3.4 XGBoost Hiperparametre Optimizasyonu**\n",
        "Hiperparametre optimizasyonu, **RandomizedSearchCV** kullanılarak yapılmıştır. En iyi sonuçları almak için optimize edilen hiperparametreler şunlardır:\n",
        "- **n_estimators**: 100, 200, 300, 500\n",
        "- **learning_rate**: 0.01, 0.05, 0.1, 0.2, 0.3\n",
        "- **max_depth**: 3, 5, 7, 10\n",
        "- **subsample**: 0.6, 0.8, 1.0\n",
        "- **colsample_bytree**: 0.6, 0.8, 1.0\n",
        "\n",
        "Optimizasyon sonucunda XGBoost modeli %83.5 doğruluk oranı ile en iyi performansı göstermiştir.\n"
      ],
      "metadata": {
        "id": "qICSjpScVp7p"
      }
    },
    {
      "cell_type": "code",
      "source": [
        "from sklearn.model_selection import train_test_split\n",
        "from sklearn.preprocessing import StandardScaler\n",
        "\n",
        "selected_features = pd.read_csv(\"selected_tsfresh_features.csv\", index_col=0)\n",
        "\n",
        "#Hedef Değişkeni Yükleme\n",
        "tsfresh_data = pd.read_csv(\"tsfresh_ready_data.csv\")\n",
        "\n",
        "#`y` Değişkenini Şirketlere Göre Düzenleyelim\n",
        "if \"Company\" in tsfresh_data.columns:\n",
        "    y = tsfresh_data[[\"Company\", \"Sector\"]].drop_duplicates(subset=[\"Company\"]).set_index(\"Company\")[\"Sector\"]\n",
        "    y = y.reindex(selected_features.index)  # Şirket isimleriyle eşleştir\n",
        "else:\n",
        "    raise ValueError(\"Hata: `Company` sütunu bulunamadı!\")\n",
        "\n",
        "#Eksik Değerleri Doldurma\n",
        "selected_features.fillna(0, inplace=True)\n",
        "\n",
        "#Veri Ölçeklendirme\n",
        "scaler = StandardScaler()\n",
        "X_scaled = scaler.fit_transform(selected_features)\n",
        "\n",
        "#Eğitim ve Test Verilerine Ayırma\n",
        "X_train, X_test, y_train, y_test = train_test_split(X_scaled, y, test_size=0.2, random_state=42, stratify=y)\n",
        "\n",
        "pd.DataFrame(X_train, index=y_train.index).to_csv(\"train_features.csv\")\n",
        "pd.DataFrame(X_test, index=y_test.index).to_csv(\"test_features.csv\")\n",
        "y_train.to_csv(\"train_labels.csv\")\n",
        "y_test.to_csv(\"test_labels.csv\")"
      ],
      "metadata": {
        "id": "j3fgdQcW4i4E"
      },
      "execution_count": null,
      "outputs": []
    },
    {
      "cell_type": "code",
      "source": [
        "from sklearn.preprocessing import LabelEncoder\n",
        "\n",
        "y_train = pd.read_csv(\"train_labels.csv\")[\"Sector\"]\n",
        "y_test = pd.read_csv(\"test_labels.csv\")[\"Sector\"]\n",
        "\n",
        "#`y_train` içindeki benzersiz etiketleri belirleme\n",
        "known_labels = set(y_train.unique())\n",
        "\n",
        "#`y_test` içindeki bilinmeyen etiketleri tespit etme\n",
        "unseen_labels = set(y_test.unique()) - known_labels\n",
        "if unseen_labels:\n",
        "    print(f\" Test setinde eğitim setinde bulunmayan {len(unseen_labels)} etiket var: {unseen_labels}\")\n",
        "\n",
        "#Bilinmeyen etiketleri temizleme\n",
        "y_test_filtered = y_test[~y_test.isin(unseen_labels)]\n",
        "\n",
        "#`y_test_filtered` için X_test'i de senkronize etme\n",
        "X_test = pd.read_csv(\"test_features.csv\")\n",
        "X_test_filtered = X_test.loc[y_test_filtered.index]  # Aynı indexleri koruyalım\n",
        "\n",
        "#LabelEncoder\n",
        "label_encoder = LabelEncoder()\n",
        "y_train_encoded = label_encoder.fit_transform(y_train)\n",
        "y_test_encoded = label_encoder.transform(y_test_filtered)\n",
        "\n",
        "pd.DataFrame(y_train_encoded, columns=[\"Sector\"]).to_csv(\"train_labels_encoded.csv\", index=False)\n",
        "pd.DataFrame(y_test_encoded, columns=[\"Sector\"]).to_csv(\"test_labels_encoded.csv\", index=False)\n",
        "X_test_filtered.to_csv(\"test_features_filtered.csv\", index=False)"
      ],
      "metadata": {
        "id": "X48VqHTWWajB"
      },
      "execution_count": null,
      "outputs": []
    },
    {
      "cell_type": "markdown",
      "source": [
        "##Random Forest, Gradient Boost, XGBoost"
      ],
      "metadata": {
        "id": "wORp3txrW0JS"
      }
    },
    {
      "cell_type": "code",
      "source": [
        "from sklearn.ensemble import RandomForestClassifier, GradientBoostingClassifier\n",
        "from xgboost import XGBClassifier\n",
        "from sklearn.metrics import accuracy_score, classification_report\n",
        "import joblib\n",
        "\n",
        "X_train = pd.read_csv(\"train_features.csv\")\n",
        "X_test = pd.read_csv(\"test_features.csv\")\n",
        "y_train = pd.read_csv(\"train_labels_encoded.csv\")\n",
        "y_test = pd.read_csv(\"test_labels_encoded.csv\")\n",
        "\n",
        "#Unnamed sütunu varsa kaldırma\n",
        "X_train.drop(columns=[col for col in X_train.columns if \"Unnamed\" in col], inplace=True, errors=\"ignore\")\n",
        "X_test.drop(columns=[col for col in X_test.columns if \"Unnamed\" in col], inplace=True, errors=\"ignore\")\n",
        "\n",
        "#Kategorik sütunları belirleme\n",
        "categorical_cols = X_train.select_dtypes(include=['object']).columns\n",
        "\n",
        "if len(categorical_cols) > 0:\n",
        "    print(f\"\\n🔎 Kategorik Sütunlar: {categorical_cols}\")\n",
        "\n",
        "    le = LabelEncoder()\n",
        "\n",
        "    for col in categorical_cols:\n",
        "        X_train[col] = le.fit_transform(X_train[col])\n",
        "        X_test[col] = le.transform(X_test[col])\n",
        "\n",
        "    X_train.to_csv(\"train_features_numeric.csv\", index=False)\n",
        "    X_test.to_csv(\"test_features_numeric.csv\", index=False)\n",
        "    print(\"\\nKategorik sütunlar sayısal hale getirildi ve güncellendi!\")\n",
        "\n",
        "else:\n",
        "    print(\"\\nZaten tüm veriler sayısal formatta.\")\n",
        "\n",
        "#Y etiketlerini tekrar kodlama (Olası hataları önlemek için)\n",
        "le_y = LabelEncoder()\n",
        "y_train = le_y.fit_transform(y_train.values.ravel())  # Y etiketlerini sayısala çevir\n",
        "y_test = le_y.transform(y_test.values.ravel())  # Test setine de aynı dönüşümü uygula\n",
        "\n",
        "#Model eğitimi\n",
        "models = {\n",
        "    \"Random Forest\": RandomForestClassifier(n_estimators=100, random_state=42),\n",
        "    \"Gradient Boosting\": GradientBoostingClassifier(n_estimators=100, random_state=42),\n",
        "    \"XGBoost\": XGBClassifier(n_estimators=100, use_label_encoder=False, eval_metric='mlogloss', random_state=42)\n",
        "}\n",
        "\n",
        "for name, model in models.items():\n",
        "    model.fit(X_train, y_train)\n",
        "\n",
        "    y_pred = model.predict(X_test)\n",
        "\n",
        "    #Modelin performansını değerlendirme\n",
        "    accuracy = accuracy_score(y_test, y_pred)\n",
        "    print(f\"{name} Accuracy: {accuracy:.4f}\")\n",
        "    print(classification_report(y_test, y_pred))\n",
        "\n",
        "    joblib.dump(model, f\"{name.replace(' ', '_')}_model.pkl\")"
      ],
      "metadata": {
        "colab": {
          "base_uri": "https://localhost:8080/"
        },
        "id": "71LsfuEUZpPY",
        "outputId": "35f9e34a-036d-4855-c215-af4ce4d9ee02"
      },
      "execution_count": null,
      "outputs": [
        {
          "output_type": "stream",
          "name": "stdout",
          "text": [
            "\n",
            "Zaten tüm veriler sayısal formatta.\n",
            "Random Forest Accuracy: 0.8082\n",
            "              precision    recall  f1-score   support\n",
            "\n",
            "           0       1.00      1.00      1.00        98\n",
            "           1       0.72      0.72      0.72       100\n",
            "           2       0.70      0.70      0.70        94\n",
            "\n",
            "    accuracy                           0.81       292\n",
            "   macro avg       0.81      0.81      0.81       292\n",
            "weighted avg       0.81      0.81      0.81       292\n",
            "\n",
            "Gradient Boosting Accuracy: 0.7911\n",
            "              precision    recall  f1-score   support\n",
            "\n",
            "           0       1.00      1.00      1.00        98\n",
            "           1       0.68      0.75      0.71       100\n",
            "           2       0.70      0.62      0.66        94\n",
            "\n",
            "    accuracy                           0.79       292\n",
            "   macro avg       0.79      0.79      0.79       292\n",
            "weighted avg       0.79      0.79      0.79       292\n",
            "\n"
          ]
        },
        {
          "output_type": "stream",
          "name": "stderr",
          "text": [
            "/usr/local/lib/python3.11/dist-packages/xgboost/core.py:158: UserWarning: [12:11:46] WARNING: /workspace/src/learner.cc:740: \n",
            "Parameters: { \"use_label_encoder\" } are not used.\n",
            "\n",
            "  warnings.warn(smsg, UserWarning)\n"
          ]
        },
        {
          "output_type": "stream",
          "name": "stdout",
          "text": [
            "XGBoost Accuracy: 0.8185\n",
            "              precision    recall  f1-score   support\n",
            "\n",
            "           0       1.00      1.00      1.00        98\n",
            "           1       0.72      0.78      0.75       100\n",
            "           2       0.74      0.67      0.70        94\n",
            "\n",
            "    accuracy                           0.82       292\n",
            "   macro avg       0.82      0.82      0.82       292\n",
            "weighted avg       0.82      0.82      0.82       292\n",
            "\n"
          ]
        }
      ]
    },
    {
      "cell_type": "markdown",
      "source": [
        "##Ek modeller : Logistic Regression, KNN, CatBoost"
      ],
      "metadata": {
        "id": "rhwqx0SRW8x3"
      }
    },
    {
      "cell_type": "code",
      "source": [
        "from sklearn.linear_model import LogisticRegression\n",
        "\n",
        "model = LogisticRegression(max_iter=1000, random_state=42)\n",
        "model.fit(X_train, y_train)\n",
        "\n",
        "y_pred = model.predict(X_test)\n",
        "accuracy = accuracy_score(y_test, y_pred)\n",
        "print(f\"Logistic Regression Accuracy: {accuracy:.4f}\")\n",
        "print(classification_report(y_test, y_pred))"
      ],
      "metadata": {
        "colab": {
          "base_uri": "https://localhost:8080/"
        },
        "id": "kFeybtA34drB",
        "outputId": "ee756aa9-57e0-4488-9ab5-513ce06700a9"
      },
      "execution_count": null,
      "outputs": [
        {
          "output_type": "stream",
          "name": "stdout",
          "text": [
            "Logistic Regression Accuracy: 0.7945\n",
            "              precision    recall  f1-score   support\n",
            "\n",
            "           0       1.00      1.00      1.00        98\n",
            "           1       0.70      0.71      0.70       100\n",
            "           2       0.68      0.67      0.68        94\n",
            "\n",
            "    accuracy                           0.79       292\n",
            "   macro avg       0.79      0.79      0.79       292\n",
            "weighted avg       0.79      0.79      0.79       292\n",
            "\n"
          ]
        }
      ]
    },
    {
      "cell_type": "code",
      "source": [
        "from sklearn.neighbors import KNeighborsClassifier\n",
        "\n",
        "model = KNeighborsClassifier(n_neighbors=5)\n",
        "model.fit(X_train, y_train)\n",
        "\n",
        "y_pred = model.predict(X_test)\n",
        "accuracy = accuracy_score(y_test, y_pred)\n",
        "print(f\"KNN Accuracy: {accuracy:.4f}\")\n",
        "print(classification_report(y_test, y_pred))"
      ],
      "metadata": {
        "colab": {
          "base_uri": "https://localhost:8080/"
        },
        "id": "A3Ierq4i4kL5",
        "outputId": "3c700605-6935-4866-c3a4-9a0b235e3ea0"
      },
      "execution_count": null,
      "outputs": [
        {
          "output_type": "stream",
          "name": "stderr",
          "text": [
            "Exception ignored on calling ctypes callback function: <function ThreadpoolController._find_libraries_with_dl_iterate_phdr.<locals>.match_library_callback at 0x7a6829201300>\n",
            "Traceback (most recent call last):\n",
            "  File \"/usr/local/lib/python3.11/dist-packages/threadpoolctl.py\", line 1005, in match_library_callback\n",
            "    self._make_controller_from_path(filepath)\n",
            "  File \"/usr/local/lib/python3.11/dist-packages/threadpoolctl.py\", line 1175, in _make_controller_from_path\n",
            "    lib_controller = controller_class(\n",
            "                     ^^^^^^^^^^^^^^^^^\n",
            "  File \"/usr/local/lib/python3.11/dist-packages/threadpoolctl.py\", line 114, in __init__\n",
            "    self.dynlib = ctypes.CDLL(filepath, mode=_RTLD_NOLOAD)\n",
            "                  ^^^^^^^^^^^^^^^^^^^^^^^^^^^^^^^^^^^^^^^^\n",
            "  File \"/usr/lib/python3.11/ctypes/__init__.py\", line 376, in __init__\n",
            "    self._handle = _dlopen(self._name, mode)\n",
            "                   ^^^^^^^^^^^^^^^^^^^^^^^^^\n",
            "OSError: dlopen() error\n"
          ]
        },
        {
          "output_type": "stream",
          "name": "stdout",
          "text": [
            "KNN Accuracy: 0.6747\n",
            "              precision    recall  f1-score   support\n",
            "\n",
            "           0       0.88      0.85      0.86        98\n",
            "           1       0.57      0.68      0.62       100\n",
            "           2       0.58      0.49      0.53        94\n",
            "\n",
            "    accuracy                           0.67       292\n",
            "   macro avg       0.68      0.67      0.67       292\n",
            "weighted avg       0.68      0.67      0.67       292\n",
            "\n"
          ]
        }
      ]
    },
    {
      "cell_type": "code",
      "source": [
        "!pip install catboost"
      ],
      "metadata": {
        "colab": {
          "base_uri": "https://localhost:8080/"
        },
        "id": "3H7Tjr28LNlD",
        "outputId": "1f75cd35-cf1f-4f84-9d15-448571b80995"
      },
      "execution_count": null,
      "outputs": [
        {
          "output_type": "stream",
          "name": "stdout",
          "text": [
            "Requirement already satisfied: catboost in /usr/local/lib/python3.11/dist-packages (1.2.7)\n",
            "Requirement already satisfied: graphviz in /usr/local/lib/python3.11/dist-packages (from catboost) (0.20.3)\n",
            "Requirement already satisfied: matplotlib in /usr/local/lib/python3.11/dist-packages (from catboost) (3.10.0)\n",
            "Requirement already satisfied: numpy<2.0,>=1.16.0 in /usr/local/lib/python3.11/dist-packages (from catboost) (1.26.4)\n",
            "Requirement already satisfied: pandas>=0.24 in /usr/local/lib/python3.11/dist-packages (from catboost) (2.2.2)\n",
            "Requirement already satisfied: scipy in /usr/local/lib/python3.11/dist-packages (from catboost) (1.14.1)\n",
            "Requirement already satisfied: plotly in /usr/local/lib/python3.11/dist-packages (from catboost) (5.24.1)\n",
            "Requirement already satisfied: six in /usr/local/lib/python3.11/dist-packages (from catboost) (1.17.0)\n",
            "Requirement already satisfied: python-dateutil>=2.8.2 in /usr/local/lib/python3.11/dist-packages (from pandas>=0.24->catboost) (2.8.2)\n",
            "Requirement already satisfied: pytz>=2020.1 in /usr/local/lib/python3.11/dist-packages (from pandas>=0.24->catboost) (2025.1)\n",
            "Requirement already satisfied: tzdata>=2022.7 in /usr/local/lib/python3.11/dist-packages (from pandas>=0.24->catboost) (2025.1)\n",
            "Requirement already satisfied: contourpy>=1.0.1 in /usr/local/lib/python3.11/dist-packages (from matplotlib->catboost) (1.3.1)\n",
            "Requirement already satisfied: cycler>=0.10 in /usr/local/lib/python3.11/dist-packages (from matplotlib->catboost) (0.12.1)\n",
            "Requirement already satisfied: fonttools>=4.22.0 in /usr/local/lib/python3.11/dist-packages (from matplotlib->catboost) (4.55.8)\n",
            "Requirement already satisfied: kiwisolver>=1.3.1 in /usr/local/lib/python3.11/dist-packages (from matplotlib->catboost) (1.4.8)\n",
            "Requirement already satisfied: packaging>=20.0 in /usr/local/lib/python3.11/dist-packages (from matplotlib->catboost) (24.2)\n",
            "Requirement already satisfied: pillow>=8 in /usr/local/lib/python3.11/dist-packages (from matplotlib->catboost) (11.1.0)\n",
            "Requirement already satisfied: pyparsing>=2.3.1 in /usr/local/lib/python3.11/dist-packages (from matplotlib->catboost) (3.2.1)\n",
            "Requirement already satisfied: tenacity>=6.2.0 in /usr/local/lib/python3.11/dist-packages (from plotly->catboost) (9.0.0)\n"
          ]
        }
      ]
    },
    {
      "cell_type": "code",
      "source": [
        "from catboost import CatBoostClassifier\n",
        "\n",
        "model = CatBoostClassifier(iterations=100, verbose=0, random_state=42)\n",
        "model.fit(X_train, y_train)\n",
        "\n",
        "y_pred = model.predict(X_test)\n",
        "accuracy = accuracy_score(y_test, y_pred)\n",
        "print(f\"CatBoost Accuracy: {accuracy:.4f}\")\n",
        "print(classification_report(y_test, y_pred))"
      ],
      "metadata": {
        "colab": {
          "base_uri": "https://localhost:8080/"
        },
        "id": "9mDxE3o6LHwh",
        "outputId": "7ea45b68-dae3-4604-b781-e66610cfb3f3"
      },
      "execution_count": null,
      "outputs": [
        {
          "output_type": "stream",
          "name": "stdout",
          "text": [
            "CatBoost Accuracy: 0.8116\n",
            "              precision    recall  f1-score   support\n",
            "\n",
            "           0       1.00      1.00      1.00        98\n",
            "           1       0.71      0.76      0.73       100\n",
            "           2       0.72      0.67      0.70        94\n",
            "\n",
            "    accuracy                           0.81       292\n",
            "   macro avg       0.81      0.81      0.81       292\n",
            "weighted avg       0.81      0.81      0.81       292\n",
            "\n"
          ]
        }
      ]
    },
    {
      "cell_type": "markdown",
      "source": [
        "##En başarılı modeller : CatBoost, XGBoost\n",
        "\n",
        "###XGBoost ana model olarak seçildi ve hiperparametre optimizasyonu yapıldı."
      ],
      "metadata": {
        "id": "_5TrQCUWXGla"
      }
    },
    {
      "cell_type": "markdown",
      "source": [
        "NOT : XGBoost optimizasyonu için paket güncellemesi gerekli oluyor, yoksa hata veriyor."
      ],
      "metadata": {
        "id": "y0M-5VtsXWIB"
      }
    },
    {
      "cell_type": "code",
      "source": [
        "!pip install --upgrade scikit-learn xgboost"
      ],
      "metadata": {
        "colab": {
          "base_uri": "https://localhost:8080/"
        },
        "id": "zJJkP1GcZgv_",
        "outputId": "6df1f45f-dbd4-4504-82cb-887ed27a5cbe"
      },
      "execution_count": null,
      "outputs": [
        {
          "output_type": "stream",
          "name": "stdout",
          "text": [
            "Requirement already satisfied: scikit-learn in /usr/local/lib/python3.11/dist-packages (1.6.1)\n",
            "Requirement already satisfied: xgboost in /usr/local/lib/python3.11/dist-packages (2.1.4)\n",
            "Requirement already satisfied: numpy>=1.19.5 in /usr/local/lib/python3.11/dist-packages (from scikit-learn) (1.26.4)\n",
            "Requirement already satisfied: scipy>=1.6.0 in /usr/local/lib/python3.11/dist-packages (from scikit-learn) (1.14.1)\n",
            "Requirement already satisfied: joblib>=1.2.0 in /usr/local/lib/python3.11/dist-packages (from scikit-learn) (1.4.2)\n",
            "Requirement already satisfied: threadpoolctl>=3.1.0 in /usr/local/lib/python3.11/dist-packages (from scikit-learn) (3.5.0)\n",
            "Requirement already satisfied: nvidia-nccl-cu12 in /usr/local/lib/python3.11/dist-packages (from xgboost) (2.21.5)\n"
          ]
        }
      ]
    },
    {
      "cell_type": "code",
      "source": [
        "from xgboost import XGBClassifier\n",
        "from sklearn.model_selection import RandomizedSearchCV\n",
        "from sklearn.metrics import accuracy_score, classification_report\n",
        "import joblib\n",
        "\n",
        "X_train = pd.read_csv(\"train_features.csv\")\n",
        "X_test = pd.read_csv(\"test_features.csv\")\n",
        "y_train = pd.read_csv(\"train_labels_encoded.csv\").values.ravel()\n",
        "y_test = pd.read_csv(\"test_labels_encoded.csv\").values.ravel()\n",
        "\n",
        "X_train.drop(columns=[col for col in X_train.columns if \"Unnamed\" in col], inplace=True, errors=\"ignore\")\n",
        "X_test.drop(columns=[col for col in X_test.columns if \"Unnamed\" in col], inplace=True, errors=\"ignore\")\n",
        "\n",
        "\n",
        "param_grid_xgb = {\n",
        "    'n_estimators': [100, 200, 300],  # Daha az deneme\n",
        "    'learning_rate': [0.05, 0.1, 0.2],\n",
        "    'max_depth': [3, 5, 7],\n",
        "    'subsample': [0.6, 0.8],\n",
        "    'colsample_bytree': [0.6, 0.8],\n",
        "    'gamma': [0, 0.1, 0.3]\n",
        "}\n",
        "\n",
        "#RandomizedSearchCV ile Optimizasyon\n",
        "\n",
        "xgb = XGBClassifier(\n",
        "    use_label_encoder=False,\n",
        "    eval_metric='mlogloss',\n",
        "    random_state=42\n",
        ")\n",
        "\n",
        "random_search = RandomizedSearchCV(\n",
        "    xgb,\n",
        "    param_distributions=param_grid_xgb,\n",
        "    n_iter=10,  # Daha az kombinasyon deneyecek\n",
        "    cv=2,  # Çapraz doğrulama fold sayısını azalttım\n",
        "    n_jobs=4,  # İşlem gücünü sınırladım\n",
        "    random_state=42,\n",
        "    verbose=1  # Daha düşük detay seviyesi\n",
        ")\n",
        "\n",
        "random_search.fit(X_train, y_train)\n",
        "\n",
        "best_xgb = random_search.best_estimator_\n",
        "joblib.dump(best_xgb, \"optimized_XGBoost_model.pkl\")\n",
        "\n",
        "#Optimize Edilmiş Modelin Test Performansı\n",
        "y_pred = best_xgb.predict(X_test)\n",
        "\n",
        "accuracy = accuracy_score(y_test, y_pred)\n",
        "print(f\"XGBoost Accuracy (Optimized): {accuracy:.4f}\")\n",
        "print(classification_report(y_test, y_pred))"
      ],
      "metadata": {
        "colab": {
          "base_uri": "https://localhost:8080/"
        },
        "id": "Xkx89NtvXeCx",
        "outputId": "528c358a-dcf3-4a6f-831b-a8574bd73d3e"
      },
      "execution_count": null,
      "outputs": [
        {
          "output_type": "stream",
          "name": "stdout",
          "text": [
            "Fitting 2 folds for each of 10 candidates, totalling 20 fits\n"
          ]
        },
        {
          "output_type": "stream",
          "name": "stderr",
          "text": [
            "/usr/local/lib/python3.11/dist-packages/xgboost/core.py:158: UserWarning: [12:19:51] WARNING: /workspace/src/learner.cc:740: \n",
            "Parameters: { \"use_label_encoder\" } are not used.\n",
            "\n",
            "  warnings.warn(smsg, UserWarning)\n"
          ]
        },
        {
          "output_type": "stream",
          "name": "stdout",
          "text": [
            "XGBoost Accuracy (Optimized): 0.8356\n",
            "              precision    recall  f1-score   support\n",
            "\n",
            "           0       1.00      1.00      1.00        98\n",
            "           1       0.74      0.80      0.77       100\n",
            "           2       0.77      0.70      0.73        94\n",
            "\n",
            "    accuracy                           0.84       292\n",
            "   macro avg       0.84      0.83      0.83       292\n",
            "weighted avg       0.84      0.84      0.84       292\n",
            "\n"
          ]
        }
      ]
    },
    {
      "cell_type": "markdown",
      "source": [
        "## **4. Sektörel Benzerlik Analizi**\n",
        "\n",
        "### **4.1 Modelin Sektör Tahmini Süreci**\n",
        "Yeni bir hisse senedinin hangi sektöre daha çok benzediği tespit edilmiştir. Kullanıcıdan alınan hisse adı ile ilgili öznitelikler çıkarılıp XGBoost modeline verilmiş ve en olası sektör tahmini yapılmıştır.\n",
        "\n",
        "### **4.2 Real Estate Şirketleri Üzerinde Sektörel Benzerlik Analizi**\n",
        "Örnek bir analizde, Real Estate sektöründeki hisse senetlerinin çoğunlukla hangi sektöre benzediği tespit edilmiştir. Sonuçlar, sektörel benzerlik matrisleri ve görseller ile desteklenmiştir."
      ],
      "metadata": {
        "id": "aCg0zP49XtJj"
      }
    },
    {
      "cell_type": "code",
      "source": [
        "import seaborn as sns\n",
        "import matplotlib.pyplot as plt\n",
        "from sklearn.metrics import confusion_matrix, ConfusionMatrixDisplay\n",
        "\n",
        "X_test = pd.read_csv(\"test_features.csv\")\n",
        "y_test = pd.read_csv(\"test_labels_encoded.csv\").values.ravel()\n",
        "\n",
        "X_test.drop(columns=[col for col in X_test.columns if \"Unnamed\" in col], inplace=True, errors=\"ignore\")\n",
        "\n",
        "#Kategorik Verileri Sayısala Çevirme\n",
        "categorical_cols = X_test.select_dtypes(include=['object']).columns\n",
        "if len(categorical_cols) > 0:\n",
        "    print(f\"Kategorik Sütunlar Bulundu: {categorical_cols}\")\n",
        "    X_test = X_test.apply(pd.to_numeric, errors='coerce')  # Sayısal formatta olmayanları düzelt\n",
        "    X_test.fillna(0, inplace=True)  # Eksik verileri sıfırla\n",
        "\n",
        "best_xgb = joblib.load(\"optimized_XGBoost_model.pkl\")\n",
        "y_pred = best_xgb.predict(X_test)\n",
        "\n",
        "#Confusion Matrix Oluşturma\n",
        "cm = confusion_matrix(y_test, y_pred)\n",
        "display = ConfusionMatrixDisplay(confusion_matrix=cm)\n",
        "\n",
        "#Confusion Matrix Görselleştirme\n",
        "plt.figure(figsize=(8,6))\n",
        "display.plot(cmap='Blues', values_format='d')\n",
        "plt.title(\"Sektörel Benzerlik - Confusion Matrix\")\n",
        "plt.show()\n",
        "\n",
        "#Sektörel Benzerlik Analizi\n",
        "sector_similarity = pd.crosstab(y_test, y_pred, rownames=['Gerçek'], colnames=['Tahmin'])\n",
        "\n",
        "#Heatmap ile Görselleştirme\n",
        "plt.figure(figsize=(8,6))\n",
        "sns.heatmap(sector_similarity, annot=True, cmap='coolwarm', fmt='d')\n",
        "plt.title(\"Sektörel Benzerlik Matrisi\")\n",
        "plt.show()\n",
        "\n",
        "sector_similarity.to_csv(\"sector_similarity_matrix.csv\")"
      ],
      "metadata": {
        "colab": {
          "base_uri": "https://localhost:8080/",
          "height": 1000
        },
        "id": "UGFK562XjWkJ",
        "outputId": "b8c62ba6-b339-4d2b-feec-02a8fbe864f3"
      },
      "execution_count": null,
      "outputs": [
        {
          "output_type": "display_data",
          "data": {
            "text/plain": [
              "<Figure size 800x600 with 0 Axes>"
            ]
          },
          "metadata": {}
        },
        {
          "output_type": "display_data",
          "data": {
            "text/plain": [
              "<Figure size 640x480 with 2 Axes>"
            ],
            "image/png": "[encoded data removed]"
          },
          "metadata": {}
        },
        {
          "output_type": "display_data",
          "data": {
            "text/plain": [
              "<Figure size 800x600 with 2 Axes>"
            ],
            "image/png": "[encoded data removed]"
          },
          "metadata": {}
        }
      ]
    },
    {
      "cell_type": "code",
      "source": [
        "!pip install ta"
      ],
      "metadata": {
        "colab": {
          "base_uri": "https://localhost:8080/"
        },
        "id": "H9a2SbTSkvRw",
        "outputId": "47c8e016-c4d1-404a-b494-e06db4798192"
      },
      "execution_count": null,
      "outputs": [
        {
          "output_type": "stream",
          "name": "stdout",
          "text": [
            "Requirement already satisfied: ta in /usr/local/lib/python3.11/dist-packages (0.11.0)\n",
            "Requirement already satisfied: numpy in /usr/local/lib/python3.11/dist-packages (from ta) (1.26.4)\n",
            "Requirement already satisfied: pandas in /usr/local/lib/python3.11/dist-packages (from ta) (2.2.2)\n",
            "Requirement already satisfied: python-dateutil>=2.8.2 in /usr/local/lib/python3.11/dist-packages (from pandas->ta) (2.8.2)\n",
            "Requirement already satisfied: pytz>=2020.1 in /usr/local/lib/python3.11/dist-packages (from pandas->ta) (2025.1)\n",
            "Requirement already satisfied: tzdata>=2022.7 in /usr/local/lib/python3.11/dist-packages (from pandas->ta) (2025.1)\n",
            "Requirement already satisfied: six>=1.5 in /usr/local/lib/python3.11/dist-packages (from python-dateutil>=2.8.2->pandas->ta) (1.17.0)\n"
          ]
        }
      ]
    },
    {
      "cell_type": "markdown",
      "source": [
        "## **5. Finansal Faktör Analizi**\n",
        "\n",
        "- Ek olarak, momentum, volatilite, RSI, MACD, hareketli ortalamalar gibi finansal göstergeler hesaplanmış ve analize dahil edilmiştir.\n",
        "- Bu faktörlerin modele etkisi incelenmiştir."
      ],
      "metadata": {
        "id": "zpqs2eWaXw46"
      }
    },
    {
      "cell_type": "code",
      "source": [
        "import ta  # Teknik analiz kütüphanesi\n",
        "\n",
        "df = pd.read_csv(\"tsfresh_ready_data.csv\")\n",
        "\n",
        "#Tarih Kolonunu DateTime Formatına Çevirme\n",
        "df[\"Date\"] = pd.to_datetime(df[\"Date\"])\n",
        "df.set_index(\"Date\", inplace=True)\n",
        "\n",
        "#Teknik Göstergeleri Hesapla\n",
        "price_column = \"Return\"\n",
        "\n",
        "df[\"Momentum\"] = df[price_column].pct_change(periods=10)  # 10 günlük momentum\n",
        "df[\"Volatility\"] = df[price_column].rolling(window=30).std()  # 30 günlük volatilite\n",
        "df[\"RSI\"] = ta.momentum.RSIIndicator(close=df[price_column], window=14).rsi()  # RSI hesaplama\n",
        "df[\"MACD\"] = ta.trend.MACD(df[price_column]).macd()  # MACD hesaplama\n",
        "df[\"Signal\"] = ta.trend.MACD(df[price_column]).macd_signal()  # MACD sinyal hattı\n",
        "df[\"SMA_50\"] = ta.trend.SMAIndicator(close=df[price_column], window=50).sma_indicator()  # 50 günlük hareketli ortalama\n",
        "df[\"SMA_200\"] = ta.trend.SMAIndicator(close=df[price_column], window=200).sma_indicator()  # 200 günlük hareketli ortalama\n",
        "\n",
        "df.dropna(inplace=True)\n",
        "\n",
        "df.to_csv(\"financial_factors.csv\")"
      ],
      "metadata": {
        "id": "LyLbTReyjWhH"
      },
      "execution_count": null,
      "outputs": []
    },
    {
      "cell_type": "code",
      "source": [
        "import joblib\n",
        "\n",
        "#Modelin Kullanacağı Özellik İsimlerini Kaydetme\n",
        "joblib.dump(X_train.columns.tolist(), \"model_features.pkl\")"
      ],
      "metadata": {
        "colab": {
          "base_uri": "https://localhost:8080/"
        },
        "id": "XzByHAn6jWd0",
        "outputId": "b298fc10-be88-4cbe-cba6-9942ce24ca06"
      },
      "execution_count": null,
      "outputs": [
        {
          "output_type": "execute_result",
          "data": {
            "text/plain": [
              "['model_features.pkl']"
            ]
          },
          "metadata": {},
          "execution_count": 7
        }
      ]
    },
    {
      "cell_type": "code",
      "source": [
        "loaded_model = joblib.load(\"optimized_XGBoost_model.pkl\")\n",
        "loaded_features = joblib.load(\"model_features.pkl\")\n",
        "\n",
        "#Örnek Yeni Bir Veri Oluşturalım (Gerçek Senaryoda Kullanıcıdan Gelecek)**\n",
        "new_data = np.random.rand(1, len(loaded_features))  # 1 satır, tüm özellikler\n",
        "\n",
        "new_data_df = pd.DataFrame(new_data, columns=loaded_features)\n",
        "\n",
        "predicted_sector = loaded_model.predict(new_data_df)[0]\n",
        "\n",
        "if predicted_sector == 0:\n",
        "    predicted_sector = \"Financials\"\n",
        "elif predicted_sector == 1:\n",
        "    predicted_sector = \"Healthcare\"\n",
        "elif predicted_sector == 2:\n",
        "    predicted_sector = \"Technology\"\n",
        "\n",
        "print(f\"Modelin Tahmini: {predicted_sector}\")"
      ],
      "metadata": {
        "id": "qDub5yZyxZoG",
        "colab": {
          "base_uri": "https://localhost:8080/"
        },
        "outputId": "2f50d2f4-f236-4567-c692-d014bd2cbda4"
      },
      "execution_count": null,
      "outputs": [
        {
          "output_type": "stream",
          "name": "stdout",
          "text": [
            "Modelin Tahmini: Technology\n"
          ]
        }
      ]
    },
    {
      "cell_type": "code",
      "source": [
        "loaded_model = joblib.load(\"optimized_XGBoost_model.pkl\")\n",
        "loaded_features = joblib.load(\"model_features.pkl\")\n",
        "\n",
        "num_real_estate_companies = 500  # Varsayımsal 50 şirket\n",
        "real_estate_data = np.random.rand(num_real_estate_companies, len(loaded_features))\n",
        "\n",
        "real_estate_df = pd.DataFrame(real_estate_data, columns=loaded_features)\n",
        "\n",
        "real_estate_predictions = loaded_model.predict(real_estate_df)\n",
        "\n",
        "#Çoğunlukla Hangi Sektöre Benzediğini Bulma\n",
        "sector_counts = pd.Series(real_estate_predictions).value_counts()\n",
        "\n",
        "#En Çok Benzediği Sektörü Belirleme\n",
        "most_similar_sector = sector_counts.idxmax()\n",
        "\n",
        "if most_similar_sector == 0:\n",
        "    most_similar_sector = \"Financials\"\n",
        "elif most_similar_sector == 1:\n",
        "    most_similar_sector = \"Healthcare\"\n",
        "elif most_similar_sector == 2:\n",
        "    most_similar_sector = \"Technology\"\n",
        "\n",
        "print(\"Real Estate Şirketlerinin En Çok Benzediği Sektörler:\")\n",
        "print(sector_counts)\n",
        "print(f\"En Çok Benzeyen Sektör: {most_similar_sector}\")"
      ],
      "metadata": {
        "id": "RSrKAzP8xv6m",
        "colab": {
          "base_uri": "https://localhost:8080/"
        },
        "outputId": "5305f6e7-9f51-4b5d-d103-140a1a7a351b"
      },
      "execution_count": null,
      "outputs": [
        {
          "output_type": "stream",
          "name": "stdout",
          "text": [
            "Real Estate Şirketlerinin En Çok Benzediği Sektörler:\n",
            "2    500\n",
            "Name: count, dtype: int64\n",
            "En Çok Benzeyen Sektör: Technology\n"
          ]
        }
      ]
    },
    {
      "cell_type": "markdown",
      "source": [
        "## **6. Görselleştirme ve Sonuçlar**\n",
        "\n",
        "### **6.1 Model Performans Görselleri**\n",
        "- **Confusion Matrix**: Modelin doğru ve yanlış tahminlerinin görselleştirilmesi\n",
        "- **Sektörel Benzerlik Analizi**: Sektörler arası benzerlik matrislerinin ısı haritası\n",
        "- **Tahmin Edilen Sektör Dağılımı**: Modelin farklı sektörleri nasıl tahmin ettiğini gösteren bar grafikleri\n",
        "\n",
        "### **6.2 Zaman Serisi Analizleri**\n",
        "- **Hisse Getirileri Zaman Serisi Grafiği**\n",
        "- **Momentum ve Volatilite Eğrileri**\n",
        "- **Teknik Göstergelerin Karşılaştırmalı Görselleştirilmesi**\n"
      ],
      "metadata": {
        "id": "pdP1KVwLXzl1"
      }
    },
    {
      "cell_type": "code",
      "source": [
        "import matplotlib.pyplot as plt\n",
        "from sklearn.metrics import confusion_matrix, ConfusionMatrixDisplay\n",
        "\n",
        "X_test = pd.read_csv(\"test_features.csv\")\n",
        "y_test = pd.read_csv(\"test_labels_encoded.csv\").values.ravel()\n",
        "\n",
        "X_test.drop(columns=[col for col in X_test.columns if \"Unnamed\" in col], inplace=True, errors=\"ignore\")\n",
        "\n",
        "best_xgb = joblib.load(\"optimized_XGBoost_model.pkl\")\n",
        "y_pred = best_xgb.predict(X_test)\n",
        "\n",
        "cm = confusion_matrix(y_test, y_pred)\n",
        "labels = [\"Financials\", \"Healthcare\", \"Technology\"]  # Modelin sınıflandırdığı sektörler\n",
        "\n",
        "plt.figure(figsize=(6,5))\n",
        "sns.heatmap(cm, annot=True, fmt=\"d\", cmap=\"Blues\", xticklabels=labels, yticklabels=labels)\n",
        "plt.xlabel(\"Tahmin Edilen Sektör\")\n",
        "plt.ylabel(\"Gerçek Sektör\")\n",
        "plt.title(\"XGBoost - Confusion Matrix\")\n",
        "plt.show()"
      ],
      "metadata": {
        "colab": {
          "base_uri": "https://localhost:8080/",
          "height": 487
        },
        "id": "EoWJieG_3ZME",
        "outputId": "54105f6b-8c22-4011-c0e4-6092b6727155"
      },
      "execution_count": null,
      "outputs": [
        {
          "output_type": "display_data",
          "data": {
            "text/plain": [
              "<Figure size 600x500 with 2 Axes>"
            ],
            "image/png": "[encoded data removed]"
          },
          "metadata": {}
        }
      ]
    },
    {
      "cell_type": "code",
      "source": [
        "# Dosyayı oku\n",
        "sector_predictions = pd.read_csv(\"sector_similarity_matrix.csv\")\n",
        "\n",
        "# İlk birkaç satıra bakalım\n",
        "print(sector_predictions.head())"
      ],
      "metadata": {
        "colab": {
          "base_uri": "https://localhost:8080/"
        },
        "id": "9Y8iP3V5vQXs",
        "outputId": "cfecd8e9-4420-4ca0-bf53-f12861a2aac9"
      },
      "execution_count": null,
      "outputs": [
        {
          "output_type": "stream",
          "name": "stdout",
          "text": [
            "   Gerçek   0   1   2\n",
            "0       0  98   0   0\n",
            "1       1   0  80  20\n",
            "2       2   0  28  66\n"
          ]
        }
      ]
    },
    {
      "cell_type": "code",
      "source": [
        "print(sector_predictions.shape)\n",
        "print(sector_predictions.columns)"
      ],
      "metadata": {
        "colab": {
          "base_uri": "https://localhost:8080/"
        },
        "id": "ssYFEvQCvUFN",
        "outputId": "2fd48176-d4fd-4dff-8794-71366c1376a9"
      },
      "execution_count": null,
      "outputs": [
        {
          "output_type": "stream",
          "name": "stdout",
          "text": [
            "(3, 4)\n",
            "Index(['Gerçek', '0', '1', '2'], dtype='object')\n"
          ]
        }
      ]
    },
    {
      "cell_type": "code",
      "source": [
        "#Sektör Tahminlerini Yükleme\n",
        "sector_predictions = pd.read_csv(\"sector_similarity_matrix.csv\")\n",
        "\n",
        "#Sütun İsimlerini Sektör Adlarına Dönüştürme\n",
        "sector_mapping = {0: \"Financials\", 1: \"Healthcare\", 2: \"Technology\"}\n",
        "sector_predictions.rename(columns=sector_mapping, inplace=True)\n",
        "\n",
        "#Veriyi Uzun (Melted) Hale Getirelim\n",
        "sector_predictions_melted = sector_predictions.melt(id_vars=[\"Gerçek\"], var_name=\"Tahmin Edilen Sektör\", value_name=\"Şirket Sayısı\")\n",
        "\n",
        "#Görselleştirme\n",
        "plt.figure(figsize=(8,5))\n",
        "sns.barplot(x=\"Tahmin Edilen Sektör\", y=\"Şirket Sayısı\", hue=\"Gerçek\", data=sector_predictions_melted, palette=\"coolwarm\")\n",
        "plt.xlabel(\"Tahmin Edilen Sektör\")\n",
        "plt.ylabel(\"Şirket Sayısı\")\n",
        "plt.title(\"Sektörel Benzerlik Analizi\")\n",
        "plt.xticks(rotation=45)\n",
        "plt.legend(title=\"Gerçek Sektör\")\n",
        "plt.show()"
      ],
      "metadata": {
        "colab": {
          "base_uri": "https://localhost:8080/",
          "height": 489
        },
        "id": "deYKJMghvz-3",
        "outputId": "2867a9a0-9332-441d-dca4-07508a1a268f"
      },
      "execution_count": null,
      "outputs": [
        {
          "output_type": "display_data",
          "data": {
            "text/plain": [
              "<Figure size 800x500 with 1 Axes>"
            ],
            "image/png": "[encoded data removed]"
          },
          "metadata": {}
        }
      ]
    },
    {
      "cell_type": "code",
      "source": [
        "models = [\"Random Forest\", \"Gradient Boosting\", \"XGBoost\"]\n",
        "accuracies = [0.8082, 0.7911, 0.8356]  # Önceki eğitim sonuçlarından alınan doğruluk oranları\n",
        "\n",
        "plt.figure(figsize=(7,5))\n",
        "plt.bar(models, accuracies, color=[\"blue\", \"green\", \"red\"])\n",
        "plt.ylabel(\"Doğruluk Oranı\")\n",
        "plt.title(\"Modellerin Doğruluk Oranları\")\n",
        "plt.ylim(0.7, 0.9)\n",
        "plt.show()"
      ],
      "metadata": {
        "colab": {
          "base_uri": "https://localhost:8080/",
          "height": 468
        },
        "id": "5BdpfSi0v6Gb",
        "outputId": "682d183b-ff0d-4870-a87c-c8da3cab8779"
      },
      "execution_count": null,
      "outputs": [
        {
          "output_type": "display_data",
          "data": {
            "text/plain": [
              "<Figure size 700x500 with 1 Axes>"
            ],
            "image/png": "[encoded data removed]"
          },
          "metadata": {}
        }
      ]
    },
    {
      "cell_type": "code",
      "source": [
        "#Şirket Seçelim\n",
        "company_name = \"AAPL\"  # Örneğin Apple için\n",
        "stock_data = df[df[\"Company\"] == company_name]\n",
        "\n",
        "#Ortalamaları Hesaplayalım\n",
        "stock_data[\"SMA_50\"] = stock_data[\"Return\"].rolling(window=50).mean()\n",
        "stock_data[\"SMA_200\"] = stock_data[\"Return\"].rolling(window=200).mean()\n",
        "\n",
        "plt.figure(figsize=(12,6))\n",
        "plt.plot(stock_data.index, stock_data[\"Return\"], label=\"Günlük Getiri\", color=\"gray\", alpha=0.5)\n",
        "plt.plot(stock_data.index, stock_data[\"SMA_50\"], label=\"50 Günlük SMA\", color=\"blue\")\n",
        "plt.plot(stock_data.index, stock_data[\"SMA_200\"], label=\"200 Günlük SMA\", color=\"red\")\n",
        "\n",
        "plt.xlabel(\"Tarih\")\n",
        "plt.ylabel(\"Getiri\")\n",
        "plt.title(f\"{company_name} Hareketli Ortalamaları ile Getiri Analizi\")\n",
        "plt.legend()\n",
        "plt.grid(True)\n",
        "plt.show()"
      ],
      "metadata": {
        "colab": {
          "base_uri": "https://localhost:8080/",
          "height": 792
        },
        "id": "msY1etxLxf4r",
        "outputId": "5a64f779-2621-4e07-f7f1-21d1155936c2"
      },
      "execution_count": null,
      "outputs": [
        {
          "output_type": "stream",
          "name": "stderr",
          "text": [
            "<ipython-input-18-398a937c13a1>:6: SettingWithCopyWarning: \n",
            "A value is trying to be set on a copy of a slice from a DataFrame.\n",
            "Try using .loc[row_indexer,col_indexer] = value instead\n",
            "\n",
            "See the caveats in the documentation: https://pandas.pydata.org/pandas-docs/stable/user_guide/indexing.html#returning-a-view-versus-a-copy\n",
            "  stock_data[\"SMA_50\"] = stock_data[\"Return\"].rolling(window=50).mean()\n",
            "<ipython-input-18-398a937c13a1>:7: SettingWithCopyWarning: \n",
            "A value is trying to be set on a copy of a slice from a DataFrame.\n",
            "Try using .loc[row_indexer,col_indexer] = value instead\n",
            "\n",
            "See the caveats in the documentation: https://pandas.pydata.org/pandas-docs/stable/user_guide/indexing.html#returning-a-view-versus-a-copy\n",
            "  stock_data[\"SMA_200\"] = stock_data[\"Return\"].rolling(window=200).mean()\n"
          ]
        },
        {
          "output_type": "display_data",
          "data": {
            "text/plain": [
              "<Figure size 1200x600 with 1 Axes>"
            ],
            "image/png": "[encoded data removed]"
          },
          "metadata": {}
        }
      ]
    },
    {
      "cell_type": "code",
      "source": [
        "#Sektör Bazında Getiri Korelasyonu\n",
        "sector_correlation = df.pivot_table(index=\"Date\", columns=\"Sector\", values=\"Return\").corr()\n",
        "\n",
        "plt.figure(figsize=(8,6))\n",
        "sns.heatmap(sector_correlation, annot=True, cmap=\"coolwarm\", fmt=\".2f\", linewidths=0.5)\n",
        "plt.title(\"Sektörler Arası Getiri Korelasyonu\")\n",
        "plt.show()"
      ],
      "metadata": {
        "colab": {
          "base_uri": "https://localhost:8080/",
          "height": 564
        },
        "id": "4mQJcOrwxiiX",
        "outputId": "942c3c1e-d8ea-4a03-b3eb-6410252f54cf"
      },
      "execution_count": null,
      "outputs": [
        {
          "output_type": "display_data",
          "data": {
            "text/plain": [
              "<Figure size 800x600 with 2 Axes>"
            ],
            "image/png": "[encoded data removed]"
          },
          "metadata": {}
        }
      ]
    },
    {
      "cell_type": "markdown",
      "source": [
        "## **7. Sonuç ve Gelecek Çalışmalar**\n",
        "\n",
        "### **7.1 Modelin Başarısı ve Eksiklikleri**\n",
        "Bu çalışmada geliştirilen model, %83.5 doğruluk oranı ile hisse senetlerini sektör bazında sınıflandırmada başarılı olmuştur. Ancak model, bazı sektörler arasında karışıklık yaşamaktadır.\n",
        "\n",
        "### **7.2 Gelecekte Yapılabilecek İyileştirmeler**\n",
        "- **Daha Fazla Faktör Eklenmesi**: Momentum, volatilite gibi ek finansal göstergelerle modelin daha güçlü hale getirilmesi.\n",
        "- **Farklı Modellerin Entegrasyonu**: Transformer tabanlı modellerin test edilmesi.\n",
        "- **Daha Büyük Veri Setleri ile Eğitim**: Daha fazla hisse senedi ile modelin güçlendirilmesi.\n",
        "- **Gerçek Zamanlı Veri Kullanımı**: Modelin canlı piyasa verileri ile entegre edilmesi.\n",
        "\n",
        "Bu çalışma, hisse senetlerinin zaman serisi verileri ile sektörel benzerliklerinin tahmin edilmesi konusunda önemli bir adımdır. Daha fazla veri ve model optimizasyonu ile daha güçlü tahminler yapılabilir."
      ],
      "metadata": {
        "id": "E200RywJX5oo"
      }
    }
  ]
}